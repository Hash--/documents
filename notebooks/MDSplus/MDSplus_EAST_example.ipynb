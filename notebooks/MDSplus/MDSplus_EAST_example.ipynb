{
 "cells": [
  {
   "cell_type": "code",
   "execution_count": 9,
   "metadata": {
    "collapsed": false
   },
   "outputs": [
    {
     "name": "stdout",
     "output_type": "stream",
     "text": [
      "Populating the interactive namespace from numpy and matplotlib\n"
     ]
    }
   ],
   "source": [
    "import MDSplus as mds\n",
    "%pylab inline"
   ]
  },
  {
   "cell_type": "code",
   "execution_count": 37,
   "metadata": {
    "collapsed": false
   },
   "outputs": [],
   "source": [
    "# mds.ipp.ac.cn corresponds to public IP 202.127.204.12\n",
    "# Also working : 202.127.204.42, 202.127.205.8\n",
    "cnx = mds.Connection('mds.ipp.ac.cn') "
   ]
  },
  {
   "cell_type": "code",
   "execution_count": 55,
   "metadata": {
    "collapsed": false
   },
   "outputs": [],
   "source": [
    "shot_nb = 55672\n",
    "cnx.openTree('east', shot_nb)"
   ]
  },
  {
   "cell_type": "code",
   "execution_count": 32,
   "metadata": {
    "collapsed": false
   },
   "outputs": [],
   "source": [
    "Ip = cnx.get('\\IPM')\n",
    "t_Ip = cnx.get('dim_of(\\IPM)')"
   ]
  },
  {
   "cell_type": "code",
   "execution_count": 33,
   "metadata": {
    "collapsed": false
   },
   "outputs": [
    {
     "data": {
      "text/plain": [
       "(0, 8)"
      ]
     },
     "execution_count": 33,
     "metadata": {},
     "output_type": "execute_result"
    },
    {
     "data": {
      "image/png": "[encoded data removed]",
      "text/plain": [
       "<matplotlib.figure.Figure at 0x830a208>"
      ]
     },
     "metadata": {},
     "output_type": "display_data"
    }
   ],
   "source": [
    "plot(t_Ip, Ip, lw=2)\n",
    "grid()\n",
    "xlim(0,8)"
   ]
  },
  {
   "cell_type": "markdown",
   "metadata": {},
   "source": [
    "A more pretty (or Pythonesque) approach from Laurent : "
   ]
  },
  {
   "cell_type": "code",
   "execution_count": 53,
   "metadata": {
    "collapsed": false
   },
   "outputs": [],
   "source": [
    "def get_signal(signal_name, shot_nb, mdsplus_connection):\n",
    "    \"\"\"\n",
    "    Retrieves a signal and its associated time vector \n",
    "    for a given shot number on EAST\n",
    "    \"\"\"\n",
    "    mdsplus_connection.openTree('EAST', shot_nb)\n",
    "    return mdsplus_connection.get(signal_name), \\\n",
    "            mdsplus_connection.get('dim_of('+signal_name+')')"
   ]
  },
  {
   "cell_type": "code",
   "execution_count": 59,
   "metadata": {
    "collapsed": false
   },
   "outputs": [],
   "source": [
    "Ip, t_Ip = get_signal('\\IPM', shot_nb, cnx)"
   ]
  },
  {
   "cell_type": "code",
   "execution_count": 61,
   "metadata": {
    "collapsed": false
   },
   "outputs": [
    {
     "ename": "MdsException",
     "evalue": "%TREE-W-TreeNNF, Node Not Found",
     "output_type": "error",
     "traceback": [
      "\u001b[1;31m---------------------------------------------------------------------------\u001b[0m",
      "\u001b[1;31mMdsException\u001b[0m                              Traceback (most recent call last)",
      "\u001b[1;32m<ipython-input-61-39b5d3911b05>\u001b[0m in \u001b[0;36m<module>\u001b[1;34m()\u001b[0m\n\u001b[1;32m----> 1\u001b[1;33m \u001b[0mNe\u001b[0m\u001b[1;33m,\u001b[0m \u001b[0mt_Ne\u001b[0m \u001b[1;33m=\u001b[0m \u001b[0mget_signal\u001b[0m\u001b[1;33m(\u001b[0m\u001b[1;34m'TOP:\\dfsdev'\u001b[0m\u001b[1;33m,\u001b[0m \u001b[0mshot_nb\u001b[0m\u001b[1;33m,\u001b[0m \u001b[0mcnx\u001b[0m\u001b[1;33m)\u001b[0m\u001b[1;33m\u001b[0m\u001b[0m\n\u001b[0m",
      "\u001b[1;32m<ipython-input-53-012eb885f444>\u001b[0m in \u001b[0;36mget_signal\u001b[1;34m(signal_name, shot_nb, mdsplus_connection)\u001b[0m\n\u001b[0;32m      5\u001b[0m     \"\"\"\n\u001b[0;32m      6\u001b[0m     \u001b[0mmdsplus_connection\u001b[0m\u001b[1;33m.\u001b[0m\u001b[0mopenTree\u001b[0m\u001b[1;33m(\u001b[0m\u001b[1;34m'EAST'\u001b[0m\u001b[1;33m,\u001b[0m \u001b[0mshot_nb\u001b[0m\u001b[1;33m)\u001b[0m\u001b[1;33m\u001b[0m\u001b[0m\n\u001b[1;32m----> 7\u001b[1;33m     \u001b[1;32mreturn\u001b[0m \u001b[0mmdsplus_connection\u001b[0m\u001b[1;33m.\u001b[0m\u001b[0mget\u001b[0m\u001b[1;33m(\u001b[0m\u001b[0msignal_name\u001b[0m\u001b[1;33m)\u001b[0m\u001b[1;33m,\u001b[0m             \u001b[0mmdsplus_connection\u001b[0m\u001b[1;33m.\u001b[0m\u001b[0mget\u001b[0m\u001b[1;33m(\u001b[0m\u001b[1;34m'dim_of('\u001b[0m\u001b[1;33m+\u001b[0m\u001b[0msignal_name\u001b[0m\u001b[1;33m+\u001b[0m\u001b[1;34m')'\u001b[0m\u001b[1;33m)\u001b[0m\u001b[1;33m\u001b[0m\u001b[0m\n\u001b[0m",
      "\u001b[1;32mC:\\Program Files\\WinPython\\python-3.3.5.amd64\\lib\\site-packages\\mdsplus-6.3_113-py3.3.egg\\MDSplus\\connection.py\u001b[0m in \u001b[0;36mget\u001b[1;34m(self, exp, *args, **kwargs)\u001b[0m\n\u001b[0;32m    260\u001b[0m             \u001b[0midx\u001b[0m\u001b[1;33m=\u001b[0m\u001b[0midx\u001b[0m\u001b[1;33m+\u001b[0m\u001b[1;36m1\u001b[0m\u001b[1;33m\u001b[0m\u001b[0m\n\u001b[0;32m    261\u001b[0m             \u001b[0mself\u001b[0m\u001b[1;33m.\u001b[0m\u001b[0m__sendArg__\u001b[0m\u001b[1;33m(\u001b[0m\u001b[0marg\u001b[0m\u001b[1;33m,\u001b[0m\u001b[0midx\u001b[0m\u001b[1;33m,\u001b[0m\u001b[0mnum\u001b[0m\u001b[1;33m)\u001b[0m\u001b[1;33m\u001b[0m\u001b[0m\n\u001b[1;32m--> 262\u001b[1;33m         \u001b[1;32mreturn\u001b[0m \u001b[0mself\u001b[0m\u001b[1;33m.\u001b[0m\u001b[0m__getAnswer__\u001b[0m\u001b[1;33m(\u001b[0m\u001b[1;33m)\u001b[0m\u001b[1;33m\u001b[0m\u001b[0m\n\u001b[0m\u001b[0;32m    263\u001b[0m \u001b[1;33m\u001b[0m\u001b[0m\n\u001b[0;32m    264\u001b[0m \u001b[1;33m\u001b[0m\u001b[0m\n",
      "\u001b[1;32mC:\\Program Files\\WinPython\\python-3.3.5.amd64\\lib\\site-packages\\mdsplus-6.3_113-py3.3.egg\\MDSplus\\connection.py\u001b[0m in \u001b[0;36m__getAnswer__\u001b[1;34m(self)\u001b[0m\n\u001b[0;32m    130\u001b[0m                 \u001b[0mMdsIpFree\u001b[0m\u001b[1;33m(\u001b[0m\u001b[0mmem\u001b[0m\u001b[1;33m)\u001b[0m\u001b[1;33m\u001b[0m\u001b[0m\n\u001b[0;32m    131\u001b[0m             \u001b[1;32mif\u001b[0m \u001b[0misinstance\u001b[0m\u001b[1;33m(\u001b[0m\u001b[0mans\u001b[0m\u001b[1;33m,\u001b[0m\u001b[0m_scalar\u001b[0m\u001b[1;33m.\u001b[0m\u001b[0mString\u001b[0m\u001b[1;33m)\u001b[0m\u001b[1;33m:\u001b[0m\u001b[1;33m\u001b[0m\u001b[0m\n\u001b[1;32m--> 132\u001b[1;33m                 \u001b[1;32mraise\u001b[0m \u001b[0mMdsException\u001b[0m\u001b[1;33m(\u001b[0m\u001b[0mstr\u001b[0m\u001b[1;33m(\u001b[0m\u001b[0mans\u001b[0m\u001b[1;33m)\u001b[0m\u001b[1;33m)\u001b[0m\u001b[1;33m\u001b[0m\u001b[0m\n\u001b[0m\u001b[0;32m    133\u001b[0m             \u001b[1;32melse\u001b[0m\u001b[1;33m:\u001b[0m\u001b[1;33m\u001b[0m\u001b[0m\n\u001b[0;32m    134\u001b[0m                 \u001b[1;32mraise\u001b[0m \u001b[0mMdsException\u001b[0m\u001b[1;33m(\u001b[0m\u001b[0mMdsGetMsg\u001b[0m\u001b[1;33m(\u001b[0m\u001b[0mstatus\u001b[0m\u001b[1;33m)\u001b[0m\u001b[1;33m)\u001b[0m\u001b[1;33m\u001b[0m\u001b[0m\n",
      "\u001b[1;31mMdsException\u001b[0m: %TREE-W-TreeNNF, Node Not Found"
     ]
    }
   ],
   "source": [
    "Ne, t_Ne = get_signal('TOP:\\dfsdev', shot_nb, cnx)"
   ]
  },
  {
   "cell_type": "markdown",
   "metadata": {},
   "source": [
    "# A list of various signals"
   ]
  },
  {
   "cell_type": "markdown",
   "metadata": {},
   "source": [
    "| __sig_name__ | __description__ |\n",
    "|----------|-------------|\n",
    "| `\\IPM`     | plasma current        |\n",
    "| `\\dfsdev`  | \n",
    "| `\\plhi1`   | LHCD 1 Incident power  |\n",
    "| `\\plhi2`   | LHCD 2 Incident power  |\n",
    "| `\\plhr1`   | LHCD 1 Reflected power  |\n",
    "| `\\plhr2`   | LHCD 2 Reflected power  |\n",
    "| `\\nbi1lhv`   | BOX1 - LEFT - NBI  |\n",
    "| `\\nbi2lhv`   | BOX2  |\n",
    "| `\\nbi1rhv`   | BOX1 - RIGHT - NBI  |\n",
    "| `\\nbi2rhv`   | BOX2  |\n",
    "| `\\icrf9`    | antenna B - Line 1  |\n",
    "| `\\icrf10`   |  |\n",
    "| `\\icrf11`   | antenna B - Line 2  |\n",
    "| `\\icrf12`   |  |\n",
    "| `\\icrf13`   |antenna B - Line 3  |\n",
    "| `\\icrf14`   |  |\n",
    "| `\\icrf15`   |antenna B - Line 4  |\n",
    "| `\\icrf16`   |  |\n",
    "| `\\te0_hrs`   | Te0  |\n"
   ]
  },
  {
   "cell_type": "code",
   "execution_count": null,
   "metadata": {
    "collapsed": true
   },
   "outputs": [],
   "source": []
  }
 ],
 "metadata": {
  "kernelspec": {
   "display_name": "Python 3",
   "language": "python",
   "name": "python3"
  },
  "language_info": {
   "codemirror_mode": {
    "name": "ipython",
    "version": 3
   },
   "file_extension": ".py",
   "mimetype": "text/x-python",
   "name": "python",
   "nbconvert_exporter": "python",
   "pygments_lexer": "ipython3",
   "version": "3.3.5"
  }
 },
 "nbformat": 4,
 "nbformat_minor": 0
}
