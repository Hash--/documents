{
 "cells": [
  {
   "cell_type": "markdown",
   "metadata": {},
   "source": [
    "This notebook illustrates the simplified (perpendicular) motion of an ion under a left-handed polarized electric field."
   ]
  },
  {
   "cell_type": "code",
   "execution_count": 1,
   "metadata": {
    "collapsed": false
   },
   "outputs": [
    {
     "name": "stdout",
     "output_type": "stream",
     "text": [
      "Using matplotlib backend: Qt4Agg\n",
      "Populating the interactive namespace from numpy and matplotlib\n"
     ]
    },
    {
     "name": "stderr",
     "output_type": "stream",
     "text": [
      "Vendor:  Continuum Analytics, Inc.\n",
      "Package: mkl\n",
      "Message: trial mode expires in 30 days\n"
     ]
    }
   ],
   "source": [
    "%pylab\n",
    "%matplotlib inline"
   ]
  },
  {
   "cell_type": "code",
   "execution_count": 2,
   "metadata": {
    "collapsed": true
   },
   "outputs": [],
   "source": [
    "# Python modules import\n",
    "import numpy as np # numpy"
   ]
  },
  {
   "cell_type": "markdown",
   "metadata": {},
   "source": [
    "In this notebook, we look for the trajectory of a particle travelling in a magnetic field B0 and subject to a rotating electric field $E_+$. Thus, we want to solve :\n",
    "$$\n",
    "m \\frac{d^2 \\mathbf{r}}{ dr^2} = q \\left( \\mathbf{E} + \\mathbf{v} \\times \\mathbf{B}\n",
    "\\right)\n",
    "$$\n",
    "\n",
    "## No  electric field\n",
    "First of all, let's assume no electric field ($\\mathbf{E}=0$) and only a constant magnetic field along the $z$ direction."
   ]
  },
  {
   "cell_type": "markdown",
   "metadata": {},
   "source": [
    "Let's define our position vector as :\n",
    "$$\n",
    "\\mathbf{r}=\n",
    "\\left(\n",
    "\\begin{array}{c}\n",
    "x \\\\\n",
    "y \\\\ \n",
    "z\n",
    "\\end{array}\n",
    "\\right)\n",
    "$$"
   ]
  },
  {
   "cell_type": "markdown",
   "metadata": {},
   "source": [
    "We have thus to solve for :\n",
    "$$\n",
    "\\left(\n",
    "\\begin{array}{c}\n",
    "x \\\\\n",
    "y \\\\\n",
    "z \\\\\n",
    "\\dot{x} \\\\\n",
    "\\dot{y} \\\\\n",
    "\\dot{z}\n",
    "\\end{array}\n",
    "\\right)\n",
    "=\n",
    "\\left(\n",
    "\\begin{array}{c}\n",
    "\\dot{x} \\\\\n",
    "\\dot{y} \\\\\n",
    "\\dot{z} \\\\\n",
    "+q/m \\dot{y} B_0 \\\\\n",
    "-q/m \\dot{x} B_0 \\\\\n",
    "0\n",
    "\\end{array}\n",
    "\\right)\n",
    "$$"
   ]
  },
  {
   "cell_type": "code",
   "execution_count": 3,
   "metadata": {
    "collapsed": true
   },
   "outputs": [],
   "source": [
    "from scipy.integrate import odeint # Integrate a system of ordinary differential equations.\n",
    "from scipy.constants import c, pi, m_e, e, m_p, m_u # some physical constants\n",
    "\n",
    "B0 = 3 # Tesla"
   ]
  },
  {
   "cell_type": "code",
   "execution_count": 4,
   "metadata": {
    "collapsed": true
   },
   "outputs": [],
   "source": [
    "def fun(u, t):\n",
    "    \"\"\"\n",
    "    Computes the derivatives f(u,t).\n",
    "    \n",
    "    Inputs:\n",
    "     - u: (x,y,z,xdot,ydot,zdot) (6x1 array)\n",
    "   \n",
    "    Returns:\n",
    "     - f(u) (6x1 array)\n",
    "    \n",
    "    \"\"\"\n",
    "    x, y, z, xdot, ydot, zdot = u # unpacking\n",
    "    \n",
    "    f = [xdot, \n",
    "         ydot, \n",
    "         zdot, \n",
    "         B0*e/m_p*ydot,\n",
    "         -B0*e/m_p*xdot,\n",
    "         0]        \n",
    "    \n",
    "    return f "
   ]
  },
  {
   "cell_type": "code",
   "execution_count": 5,
   "metadata": {
    "collapsed": false
   },
   "outputs": [],
   "source": [
    "# cyclotron frequency\n",
    "omega_c = e*B0/m_p\n",
    "# time array\n",
    "t = linspace(0, 5*2*pi/omega_c, 1001)\n",
    "# initial position : particle in (x,y,z)=(0,0,0) and at rest\n",
    "u0 = [0,0,0,1,1,1]\n",
    "# solving \n",
    "u_num = odeint(fun, u0, t)"
   ]
  },
  {
   "cell_type": "code",
   "execution_count": 6,
   "metadata": {
    "collapsed": false
   },
   "outputs": [
    {
     "name": "stdout",
     "output_type": "stream",
     "text": [
      "Cyclotron frequency in MHz:  45.73556141600026\n"
     ]
    }
   ],
   "source": [
    "print('Cyclotron frequency in MHz: ', omega_c/(2*pi)/1e6)"
   ]
  },
  {
   "cell_type": "code",
   "execution_count": 7,
   "metadata": {
    "collapsed": false
   },
   "outputs": [],
   "source": [
    "x,y,z,vx,vy,vz = u_num.T # unpacking results"
   ]
  },
  {
   "cell_type": "code",
   "execution_count": 25,
   "metadata": {
    "collapsed": false
   },
   "outputs": [
    {
     "data": {
      "text/plain": [
       "-8.4012114434732793e-09"
      ]
     },
     "execution_count": 25,
     "metadata": {},
     "output_type": "execute_result"
    },
    {
     "data": {
      "image/png": "[encoded data removed]",
      "text/plain": [
       "<matplotlib.figure.Figure at 0x7fde32bca860>"
      ]
     },
     "metadata": {},
     "output_type": "display_data"
    }
   ],
   "source": [
    "from mpl_toolkits.mplot3d import Axes3D\n",
    "# setup a figure\n",
    "fig = figure()\n",
    "ax = fig.add_axes([0,0,1,1], projection='3d')\n",
    "# setup lines and poinys\n",
    "lines = sum(ax.plot([], [], color='r'))\n",
    "pts = sum(ax.plot([], [], color='r'))\n",
    "\n",
    "plot(x,y,z)\n",
    "min(y)"
   ]
  },
  {
   "cell_type": "code",
   "execution_count": 26,
   "metadata": {
    "collapsed": false
   },
   "outputs": [
    {
     "ename": "NameError",
     "evalue": "name 'animation' is not defined",
     "output_type": "error",
     "traceback": [
      "\u001b[1;31m---------------------------------------------------------------------------\u001b[0m",
      "\u001b[1;31mNameError\u001b[0m                                 Traceback (most recent call last)",
      "\u001b[1;32m<ipython-input-26-dd243b25aa98>\u001b[0m in \u001b[0;36m<module>\u001b[1;34m()\u001b[0m\n\u001b[0;32m     11\u001b[0m     \u001b[1;32mreturn\u001b[0m \u001b[1;33m[\u001b[0m\u001b[0mlines\u001b[0m\u001b[1;33m,\u001b[0m \u001b[0mpts\u001b[0m\u001b[1;33m]\u001b[0m\u001b[1;33m\u001b[0m\u001b[0m\n\u001b[0;32m     12\u001b[0m \u001b[1;33m\u001b[0m\u001b[0m\n\u001b[1;32m---> 13\u001b[1;33m anim = animation.FuncAnimation(fig, animate, \n\u001b[0m\u001b[0;32m     14\u001b[0m                               frames=500, interval=30, blit=True)\n",
      "\u001b[1;31mNameError\u001b[0m: name 'animation' is not defined"
     ]
    }
   ],
   "source": [
    "def animate(i):\n",
    "    \n",
    "    x,y,z,vx,vy,vz = u_num[:i].T\n",
    "    lines.set_data(x,y)\n",
    "    lines.set_3d_properties(z)\n",
    "        \n",
    "    pts.set_data(x[-1:], y[-1:])\n",
    "    pts.set_3d_properties(z[-1:])\n",
    "        \n",
    "    fig.canvas.draw()\n",
    "    return [lines, pts]\n",
    "\n",
    "anim = animation.FuncAnimation(fig, animate, \n",
    "                              frames=500, interval=30, blit=True)"
   ]
  },
  {
   "cell_type": "code",
   "execution_count": null,
   "metadata": {
    "collapsed": false
   },
   "outputs": [],
   "source": [
    "fig.show()"
   ]
  },
  {
   "cell_type": "code",
   "execution_count": null,
   "metadata": {
    "collapsed": false
   },
   "outputs": [],
   "source": [
    "x,y,z,vx,vy,vz = u_num.T\n",
    "plot(x,y,z, lw=2)"
   ]
  },
  {
   "cell_type": "code",
   "execution_count": null,
   "metadata": {
    "collapsed": false
   },
   "outputs": [],
   "source": [
    "from mpl_toolkits.mplot3d import Axes3D # allows 3D plots with the keyword projection='3d' below\n",
    "fig=figure()\n",
    "axe=fig.add_axes([0,0,1,1], projection='3d')\n",
    "axe.plot(x, y, z, color='r', lw=2)\n",
    "axe.plot(x[-2:-1], y[-2:-1], z[-2:-1], marker='.', markersize=20, color='r') # particle point\n",
    "axe.axis('on')\n",
    "#axe.tick_params(axis='x', which='both',  labelbottom='off')\n",
    "axe.view_init(30,60)"
   ]
  },
  {
   "cell_type": "markdown",
   "metadata": {},
   "source": [
    "##Linear electric field"
   ]
  },
  {
   "cell_type": "markdown",
   "metadata": {},
   "source": [
    "Let's assume a linearly polarizded electric field:\n",
    "$$\n",
    "\\mathbf{E}(\\mathbf{r},t)=E_0 \\cos\\left( \\omega_{RF} t - k_\\parallel z \\right) \\mathbf{\\hat{x}}\n",
    "$$"
   ]
  },
  {
   "cell_type": "code",
   "execution_count": null,
   "metadata": {
    "collapsed": true
   },
   "outputs": [],
   "source": [
    "E0 = 1e6\n",
    "\n",
    "def fun2(u, t, omega_rf=(2*pi)*50e6, k_parallel=0):\n",
    "    \"\"\"\n",
    "    Computes the derivatives f(u,t).\n",
    "    \n",
    "    Inputs:\n",
    "     - u: (x,y,z,xdot,ydot,zdot) (6x1 array)\n",
    "   \n",
    "    Returns:\n",
    "     - f(u) (6x1 array)\n",
    "    \n",
    "    \"\"\"\n",
    "    x, y, z, xdot, ydot, zdot = u # unpacking\n",
    "    \n",
    "    f = [xdot, \n",
    "         ydot, \n",
    "         zdot, \n",
    "         B0*e/m_p*ydot + e/m_p*E0*cos(omega_rf*t - k_parallel*z),\n",
    "         -B0*e/m_p*xdot,\n",
    "         0]        \n",
    "    \n",
    "    return f "
   ]
  },
  {
   "cell_type": "code",
   "execution_count": null,
   "metadata": {
    "collapsed": false
   },
   "outputs": [],
   "source": [
    "omega_rf = 1*omega_c\n",
    "k_parallel = 6\n",
    "nb_periode = 10\n",
    "# time array\n",
    "t = linspace(0, nb_periode*2*pi/omega_c, 1e4)\n",
    "u_num2 = odeint(fun2, u0, t, args=(omega_rf, k_parallel))\n",
    "x,y,z,vx,vy,vz = u_num2.T"
   ]
  },
  {
   "cell_type": "code",
   "execution_count": null,
   "metadata": {
    "collapsed": false
   },
   "outputs": [],
   "source": [
    "fig=figure()\n",
    "axe=fig.add_subplot(111, projection='3d')\n",
    "axe.plot(x, y, z, color='r', lw=2)\n",
    "axe.plot(x[-2:-1], y[-2:-1], z[-2:-1], marker='.', markersize=20, color='r') # particle point"
   ]
  },
  {
   "cell_type": "code",
   "execution_count": null,
   "metadata": {
    "collapsed": false
   },
   "outputs": [],
   "source": [
    "axe1=subplot(231)\n",
    "plot(x,y)\n",
    "xticks(rotation='vertical')\n",
    "\n",
    "axe2=subplot(132, sharex=axe1)\n",
    "plot(x,z)\n",
    "xticks(rotation='vertical')\n",
    "\n",
    "subplot(133, sharex=axe1, sharey=axe2)\n",
    "plot(y,z)\n",
    "xticks(rotation='vertical')"
   ]
  },
  {
   "cell_type": "markdown",
   "metadata": {},
   "source": [
    "##Circular polarization"
   ]
  },
  {
   "cell_type": "markdown",
   "metadata": {},
   "source": [
    "The velocity of the particle in the complex plane $u(x,y)=v_x(x,y) + i v_y(x,y)$ is defined by the differential equation\n",
    "$$\n",
    "\\frac{du}{dt} + i \\omega_c u(t) = E_+ e^{i \\omega t - i k_\\parallel z}\n",
    "$$"
   ]
  },
  {
   "cell_type": "markdown",
   "metadata": {},
   "source": [
    "In order to use the odeint module, we first need to rewrite the differential equation under the appropriate form, that is :\n",
    "$$\n",
    "\\frac{d u}{d t} = f(u, t)\n",
    "$$"
   ]
  },
  {
   "cell_type": "code",
   "execution_count": null,
   "metadata": {
    "collapsed": true
   },
   "outputs": [],
   "source": [
    "B0 = 3\n",
    "omega_c = 1\n",
    "omega = omega_c\n",
    "k_parallel = 0\n",
    "E0 = 1\n",
    "\n",
    "def fun(u, t):\n",
    "    f = -1j*omega_c*u + 1/B0*np.exp(-1j*omega*t)\n",
    "    return f\n",
    "def fun_re(u,t):\n",
    "    return np.real(fun(u,t))\n",
    "def fun_im(u,t):\n",
    "    return np.imag(fun(u,t))"
   ]
  },
  {
   "cell_type": "code",
   "execution_count": null,
   "metadata": {
    "collapsed": false
   },
   "outputs": [],
   "source": [
    "u0 = 3 + 1j*2\n",
    "t = np.linspace(0, 150, 1001)\n",
    "\n",
    "u_re = odeint(fun_re, real(u0), t)\n",
    "u_im = odeint(fun_im, imag(u0), t)"
   ]
  },
  {
   "cell_type": "code",
   "execution_count": null,
   "metadata": {
    "collapsed": false
   },
   "outputs": [],
   "source": [
    "plot(u_re, u_im)\n",
    "axis('equal')\n",
    "grid(True)"
   ]
  },
  {
   "cell_type": "code",
   "execution_count": null,
   "metadata": {
    "collapsed": false
   },
   "outputs": [],
   "source": [
    "from IPython.html.widgets import *"
   ]
  },
  {
   "cell_type": "code",
   "execution_count": null,
   "metadata": {
    "collapsed": false,
    "scrolled": true
   },
   "outputs": [],
   "source": [
    "@interact\n",
    "def pltfun(idx_t=(t[0], t[-1], t[1]-t[0])):\n",
    "    plot(u_re[:idx_t+1], u_im[:idx_t+1])\n",
    "    plot(u_re[idx_t], u_im[idx_t], '.', ms=10)"
   ]
  },
  {
   "cell_type": "markdown",
   "metadata": {},
   "source": [
    "With\n",
    "$$\n",
    "\\mathbf{u}=\n",
    "\\left( \n",
    "\\begin{array}{c}\n",
    "    x \\\\\n",
    "    y \\\\\n",
    "    v_x \\\\\n",
    "    v_y\n",
    "\\end{array}\n",
    "\\right)\n",
    "$$\n",
    "\n",
    "We solve for:\n",
    "$$\n",
    "\\mathbf{f}=\n",
    "\\frac{d}{dt} \n",
    "\\left( \n",
    "\\begin{array}{c}\n",
    "    x \\\\\n",
    "    y \\\\\n",
    "    v_x \\\\\n",
    "    v_y \n",
    "\\end{array}\n",
    "\\right)=\n",
    "\\left( \n",
    "\\begin{array}{c}\n",
    "    v_x \\\\\n",
    "    v_y \\\\\n",
    "    \\omega_c v_y + \\frac{e}{m} E_x \\\\\n",
    "    - \\omega_c v_x + \\frac{e}{m} E_y\n",
    "\\end{array}\n",
    "\\right)\n",
    "$$"
   ]
  },
  {
   "cell_type": "code",
   "execution_count": null,
   "metadata": {
    "collapsed": false
   },
   "outputs": [],
   "source": [
    "e/m_p / 1e6"
   ]
  },
  {
   "cell_type": "code",
   "execution_count": null,
   "metadata": {
    "collapsed": false
   },
   "outputs": [],
   "source": [
    "omega_c = 1\n",
    "E0 = 1\n",
    "\n",
    "def fun_x(v,t):\n",
    "    x, y, vx, vy = v\n",
    "    f = (vx,\n",
    "         vy,\n",
    "         omega_c * vy + E0*np.cos(omega*t),\n",
    "         omega_c * (-vx) + E0*np.sin(omega*t))\n",
    "    \n",
    "    return f\n"
   ]
  },
  {
   "cell_type": "code",
   "execution_count": null,
   "metadata": {
    "collapsed": false
   },
   "outputs": [],
   "source": [
    "x0, y0 = 0, 0\n",
    "vx0, vy0 = 1,1\n",
    "\n",
    "t = np.linspace(0, 100, 1001)\n",
    "\n",
    "u = odeint(fun_x, (x0, y0, vx0, vy0), t)\n",
    "x,y,vx,vy = u.T"
   ]
  },
  {
   "cell_type": "code",
   "execution_count": null,
   "metadata": {
    "collapsed": false
   },
   "outputs": [],
   "source": [
    "plot(x, y)\n",
    "axis('equal')"
   ]
  },
  {
   "cell_type": "code",
   "execution_count": null,
   "metadata": {
    "collapsed": false
   },
   "outputs": [],
   "source": [
    "@interact\n",
    "def plot_xy(indx=(t[0], t[-1], t[1]-t[0])):\n",
    "    plot(u[:indx+1,0], u[:indx+1,1], lw=2)\n",
    "    plot(u[indx,0], u[indx,1], '.', ms=20)"
   ]
  },
  {
   "cell_type": "code",
   "execution_count": null,
   "metadata": {
    "collapsed": true
   },
   "outputs": [],
   "source": []
  },
  {
   "cell_type": "code",
   "execution_count": null,
   "metadata": {
    "collapsed": true
   },
   "outputs": [],
   "source": []
  }
 ],
 "metadata": {
  "kernelspec": {
   "display_name": "Python 3",
   "language": "python",
   "name": "python3"
  },
  "language_info": {
   "codemirror_mode": {
    "name": "ipython",
    "version": 3
   },
   "file_extension": ".py",
   "mimetype": "text/x-python",
   "name": "python",
   "nbconvert_exporter": "python",
   "pygments_lexer": "ipython3",
   "version": "3.5.0"
  }
 },
 "nbformat": 4,
 "nbformat_minor": 0
}
