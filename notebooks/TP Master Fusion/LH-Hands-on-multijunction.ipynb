{
 "cells": [
  {
   "cell_type": "markdown",
   "metadata": {},
   "source": [
    "# Hands-on LH2: the multijunction launcher"
   ]
  },
  {
   "cell_type": "markdown",
   "metadata": {},
   "source": [
    "A tokamak a intrinsequally a pulsed machine. In order to perform long plasma discharges, it is necessary to drive a part of the plasma current, in order to limit (or ideally cancel) the magnetic flux consumption. Additional current drive systems are used for these. Among the current drive systems, _Lower Hybrid Current Drive_ (LHCD) systems have demonstrated the larger current drive efficiency. \n",
    "\n",
    "A Lower Hybrid launcher is generally made of numerous waveguides, stacked next to each other by their large sides. Since there is a phase shift between each waveguide in the toroidal direction, these launchers constitute a _phased array_. A phased array is an array of radiating elements in which the relative phases of the respective signals feeding these elements are varied in such a way that the effective radiation pattern of the array is reinforced in a desired direction and suppressed in undesired directions. A phased array is an example of N-slit diffraction. It may also be viewed as the coherent addition of N sources. In the case of LHCD launchers, the RF power is transmitted into a specific direction in the plasma through plasma waves. These waves will ultimately drive some additional plasma current in the tokamak.\n",
    "\n",
    "The total number of waveguides in a LHCD launcher increased with each launcher generation. From simple structures, made of two or four waveguides, today's LHCD launchers such as the Tore Supra ones have hundred of waveguides. With such a number of waveguides, it is not possible anymore to excite each waveguides separately. _Multijunctions_ have been designed to solve this challenge. They act as a power splitter while phasing the adjacent waveguides.\n",
    "\n",
    "The aim of this hands-on is to measure and characterize the RF performances of a multijunction structure, on a real Tore Supra C3 mock-up. From these relative measurements, you will have to analyse the performances of the multijunction and to deduce if the manufacturing tolerances affect them. \n",
    "\n",
    "\n",
    "Before or in parallel to making measurements, you will have to calculate what would be the ideal spectral power density (or _spectrum_) launched by such a multijunction. This will serve them for making comparison theory vs experimental and thus discuss about the performances one could expect. "
   ]
  },
  {
   "cell_type": "markdown",
   "metadata": {},
   "source": [
    "## 1. LHCD launcher spectrum"
   ]
  },
  {
   "cell_type": "markdown",
   "metadata": {},
   "source": [
    "The objective of this section is to get you to understand the multiple requirements of a LHCD launcher. "
   ]
  },
  {
   "cell_type": "markdown",
   "metadata": {},
   "source": [
    "## 2. RF Measurements"
   ]
  },
  {
   "cell_type": "markdown",
   "metadata": {},
   "source": [
    "Because of the non-standard dimensions of the waveguides, it is not possible to use commercial calibration toolkit, and thus to make an \n",
    "precise and absolute calibration of the RF measurements. However, relative comparisons are still relevant. \n"
   ]
  },
  {
   "cell_type": "markdown",
   "metadata": {},
   "source": [
    "-----"
   ]
  },
  {
   "cell_type": "markdown",
   "metadata": {},
   "source": [
    "# Solution "
   ]
  },
  {
   "cell_type": "markdown",
   "metadata": {},
   "source": [
    "This notebook illustrates a method to compute the power density spectrum of a phased array. "
   ]
  },
  {
   "cell_type": "code",
   "execution_count": 1,
   "metadata": {},
   "outputs": [
    {
     "name": "stdout",
     "output_type": "stream",
     "text": [
      "Using matplotlib backend: Qt5Agg\n",
      "Populating the interactive namespace from numpy and matplotlib\n"
     ]
    }
   ],
   "source": [
    "%pylab\n",
    "%matplotlib inline\n",
    "from scipy.constants import c"
   ]
  },
  {
   "cell_type": "markdown",
   "metadata": {},
   "source": [
    "## Phased array geometry"
   ]
  },
  {
   "cell_type": "markdown",
   "metadata": {},
   "source": [
    "A linear phased array with equal spaced elements is easiest to analyze. It is illustrated in the following figure, in which radiating elements are located at a $\\Delta z$ distance between each other. These elements radiates with a phase shift $\\Delta \\Phi$.  "
   ]
  },
  {
   "cell_type": "markdown",
   "metadata": {},
   "source": [
    "Let's a rectangular waveguide phased array facing the plasma. The waveguides periodicity is $\\Delta z=b+e$ where $b$ is the width of a waveguide and $e$ the thickness of the septum between waveguides and the phase shift between waveguides is $\\Delta \\Phi$. We will suppose here that the amplitude and the phase of the waves in a waveguide do not depend of the spatial direction $z$. Thus we have $\\Delta\\Phi=$. The geometry is illustrated in the figure below.  "
   ]
  },
  {
   "cell_type": "markdown",
   "metadata": {},
   "source": [
    "<img src=\"./LH2_Multijunction_data/phased_array_grill.png\"> "
   ]
  },
  {
   "cell_type": "markdown",
   "metadata": {},
   "source": [
    "## Ideal grill"
   ]
  },
  {
   "cell_type": "markdown",
   "metadata": {},
   "source": [
    "Let's make the hypothesis that the electric field at the interface antenna-plasma is not perturbed from the electric field in the waveguide. At the antenna-plasma interface, the total electric field is thus:   "
   ]
  },
  {
   "cell_type": "markdown",
   "metadata": {},
   "source": [
    "$$ E(z) = \\sum_{n=1}^N E_n \\Pi_n(z) = \\sum_{n=1}^N A_n e^{j\\Phi_n} \\Pi_n(z) $$"
   ]
  },
  {
   "cell_type": "markdown",
   "metadata": {},
   "source": [
    "where $\\Pi_n(z)$ is a Heavisyde step function, equals to unity for $z$ corresponding to a waveguide $n$, and zero elsewhere. The power density spectrum is homogeneous to the square of the Fourier transform of the electric field, that is, to :\n",
    "\n",
    "$$ \\tilde{E}(k_z) = \\int E(z) e^{j k_z z} \\, dz $$\n",
    "\n",
    "Where $k_z=n_z k_0$. If one calculates the modulus square of the previous expression, this should give:\n",
    "\n",
    "$$ dP(n_z) \\propto sinc^2 \\left( k_0 n_z \\frac{b}{2} \\right) \\left( \\frac{\\sin(N \\Phi/2)}{\\sin\\Phi/2} \\right)^2 $$\n",
    "\n",
    "With $\\Phi=k_0 n_z \\Delta z + \\Delta\\Phi$. The previous expression is maximized for $\\Phi=2 p \\pi, p\\in \\mathbb{N}$. Assuming $p=0$, this leads to the condition :\n",
    "\n",
    "$$ n_{z0} = - \\frac{\\Delta\\Phi}{k_0 \\Delta z} $$"
   ]
  },
  {
   "cell_type": "markdown",
   "metadata": {},
   "source": [
    "Let's define the following function:"
   ]
  },
  {
   "cell_type": "code",
   "execution_count": 2,
   "metadata": {},
   "outputs": [],
   "source": [
    "def ideal_spectrum(b,e,phi,N=6,f=3.7e9):\n",
    "    nz = np.arange(-10,10,0.1)\n",
    "    k0 = (2*pi*f)/c\n",
    "    \n",
    "    PHI = k0*nz*(b+e) + phi\n",
    "    dP = sinc(k0*nz*b/2)*(sin(N*PHI/2)/sin(PHI/2))**2\n",
    "    \n",
    "    return(nz,dP)"
   ]
  },
  {
   "cell_type": "markdown",
   "metadata": {},
   "source": [
    "And trace the spectrum of an ideal launcher:"
   ]
  },
  {
   "cell_type": "code",
   "execution_count": 3,
   "metadata": {},
   "outputs": [
    {
     "name": "stderr",
     "output_type": "stream",
     "text": [
      "C:\\Users\\JH218595\\AppData\\Local\\Continuum\\anaconda3\\lib\\site-packages\\matplotlib\\cbook\\__init__.py:424: MatplotlibDeprecationWarning: \n",
      "Passing one of 'on', 'true', 'off', 'false' as a boolean is deprecated; use an actual boolean (True/False) instead.\n",
      "  warn_deprecated(\"2.2\", \"Passing one of 'on', 'true', 'off', 'false' as a \"\n"
     ]
    },
    {
     "data": {
      "image/png": "[encoded data removed]",
      "text/plain": [
       "<Figure size 432x288 with 1 Axes>"
      ]
     },
     "metadata": {
      "needs_background": "light"
     },
     "output_type": "display_data"
    }
   ],
   "source": [
    "nz, dP_ideal = ideal_spectrum(b=8e-3, e=2e-3, phi=pi/2, N=6)\n",
    "\n",
    "\n",
    "plot(nz, abs(dP_ideal), lw=2)\n",
    "xlabel('$n_z=k_z/k_0$');\n",
    "ylabel('Power density [a.u.]');\n",
    "title('Power density spectrum of an ideal LH grill launcher') \n",
    "grid('on')\n",
    "\n",
    "plt.savefig('multijunction_ideal_spectrum.png', dpi=150)"
   ]
  },
  {
   "cell_type": "markdown",
   "metadata": {},
   "source": [
    "## Realistic grill"
   ]
  },
  {
   "cell_type": "markdown",
   "metadata": {},
   "source": [
    "Let's illustrate this with a more realistic case. Below we define a function that generate the electric field along z for N waveguides, d-spaced and with a constant phase shift. The spacial precision can be set optionnaly.   "
   ]
  },
  {
   "cell_type": "code",
   "execution_count": 4,
   "metadata": {},
   "outputs": [],
   "source": [
    "def generate_Efield(b,e,phi,N=6,dz=1e-4,A=1):\n",
    "    # generate the z-axis, between [z_min, z_max[ by dz steps\n",
    "    z_min = 0 - 0.01\n",
    "    z_max = N*(b+e) + 0.01\n",
    "    z = arange(z_min, z_max, dz)\n",
    "    # construct the Efield (complex valued)\n",
    "    E = zeros_like(z,dtype=complex)\n",
    "    for idx in arange(N):\n",
    "        E[ (z>=idx*(b+e)) & (z < idx*(b+e)+b) ] = A * exp(1j*idx*phi)\n",
    "    return(z,E)"
   ]
  },
  {
   "cell_type": "markdown",
   "metadata": {},
   "source": [
    "Then we use this function to generate the electric field at the mouth of a 6 waveguide launcher, of waveguide width b=8mm, septum thickness e=2mm with a phase shift between waveguides of 90° ($\\pi/2$) :"
   ]
  },
  {
   "cell_type": "code",
   "execution_count": 5,
   "metadata": {},
   "outputs": [],
   "source": [
    "z,E = generate_Efield(b=8e-3, e=2e-3,phi=pi/2)"
   ]
  },
  {
   "cell_type": "code",
   "execution_count": 6,
   "metadata": {},
   "outputs": [
    {
     "data": {
      "image/png": "[encoded data removed]",
      "text/plain": [
       "<Figure size 432x288 with 2 Axes>"
      ]
     },
     "metadata": {
      "needs_background": "light"
     },
     "output_type": "display_data"
    }
   ],
   "source": [
    "fig, (ax1, ax2) = plt.subplots(2,1,sharex=True)\n",
    "ax1.plot(z,abs(E), lw=2)\n",
    "ax1.set_ylabel('Amplitude [a.u.]')\n",
    "ax1.grid(True)\n",
    "ax1.set_ylim((-0.1,1.1))\n",
    "\n",
    "ax2.plot(z,angle(E)*180/pi,'g', lw=2)\n",
    "ax2.set_xlabel('z [m]')\n",
    "ax2.set_ylabel('Phase [deg]')\n",
    "ax2.grid(True)\n",
    "ax2.set_ylim((-200, 200))\n",
    "\n",
    "fig.savefig('multijunction_ideal_excitation.png', dpi=150)"
   ]
  },
  {
   "cell_type": "markdown",
   "metadata": {},
   "source": [
    "Now, let's take the fourier transform of such a field (the source frequency is here f=3.7 GHz, the frequency of the Tore Supra LH system)."
   ]
  },
  {
   "cell_type": "code",
   "execution_count": 9,
   "metadata": {},
   "outputs": [],
   "source": [
    "def calculate_spectrum(z,E,f=3.7e9):\n",
    "    k0 = 2*pi*f/c\n",
    "    lambda0 = c/f\n",
    "    # fourier domain points\n",
    "    B = 2**18\n",
    "    Efft = np.fft.fftshift(np.fft.fft(E,B))\n",
    "    \n",
    "    # fourier domain bins\n",
    "    dz = z[1] - z[0] # assumes spatial period is constant\n",
    "    df = 1/(B*dz)\n",
    "    K = arange(-B/2,+B/2)\n",
    "    # spatial frequency bins\n",
    "    Fz= K*df\n",
    "    # parallel index is kz/k0\n",
    "    nz= (2*pi/k0)*Fz\n",
    "    \n",
    "    # ~ power density spectrum\n",
    "    p = (dz)**2/lambda0 * (1/2*Efft*conj(Efft));\n",
    "    \n",
    "    return(nz,p)"
   ]
  },
  {
   "cell_type": "code",
   "execution_count": 10,
   "metadata": {},
   "outputs": [],
   "source": [
    "nz,p = calculate_spectrum(z,E)"
   ]
  },
  {
   "cell_type": "code",
   "execution_count": 11,
   "metadata": {},
   "outputs": [
    {
     "data": {
      "image/png": "[encoded data removed]",
      "text/plain": [
       "<Figure size 432x288 with 1 Axes>"
      ]
     },
     "metadata": {
      "needs_background": "light"
     },
     "output_type": "display_data"
    }
   ],
   "source": [
    "plot(nz,real(p),lw=2)\n",
    "xlim((-10,10))\n",
    "xlabel('$n_z=k_z/k_0$')\n",
    "ylabel('Power density [a.u.]') \n",
    "title('Spectral power density of an ideal LH launcher')\n",
    "grid('on')\n",
    "\n",
    "plt.savefig('multijunction_ideal_spectrum.png', dpi=150)"
   ]
  },
  {
   "cell_type": "markdown",
   "metadata": {},
   "source": [
    "The main component of the spectrum seems located near $n_z$=2. Looking at the previous analytical formula, which expresses the extremum of the power density spectrum:"
   ]
  },
  {
   "cell_type": "code",
   "execution_count": 12,
   "metadata": {},
   "outputs": [],
   "source": [
    "f = 3.7e9 # frequency [Hz]\n",
    "b = 8e-3 # waveguide width [m]\n",
    "e = 2e-3 # septum width [m]\n",
    "k0 = (2*pi*f) / c # wavenumber in vacuum\n",
    "delta_phi = pi/2 # phase shift between waveguides"
   ]
  },
  {
   "cell_type": "markdown",
   "metadata": {},
   "source": [
    "$$n_{z0} = \\frac{k_{z0}}{k_0} = \\frac{\\Delta \\Phi}{k_0 \\Delta z }$$"
   ]
  },
  {
   "cell_type": "code",
   "execution_count": 13,
   "metadata": {},
   "outputs": [],
   "source": [
    "nz0 = pi/2 / ((b+e) * k0) # main component of the spectrum"
   ]
  },
  {
   "cell_type": "code",
   "execution_count": 14,
   "metadata": {},
   "outputs": [
    {
     "data": {
      "text/plain": [
       "2.025624716216216"
      ]
     },
     "execution_count": 14,
     "metadata": {},
     "output_type": "execute_result"
    }
   ],
   "source": [
    "nz0"
   ]
  },
  {
   "cell_type": "markdown",
   "metadata": {},
   "source": [
    "Which is what we expected from the previous Figure."
   ]
  },
  {
   "cell_type": "markdown",
   "metadata": {},
   "source": [
    "## Current Drive Direction\n",
    "Let's assume that the plasma current is clockwise as seen from the top of a tokamak. Let's also define the positive direction of the toroidal magnetic field being in the same direction than the plasma current, i.e. :\n",
    "$$\n",
    "\\mathbf{B}_0 = B_0 \\mathbf{e}_\\parallel\n",
    "$$\n",
    "and\n",
    "$$\n",
    "\\mathbf{I}_p = I_p \\mathbf{e}_\\parallel\n",
    "$$\n",
    "\n",
    "Let be $\\mathbf{J}_{LH}$ the current density created by the Lower Hybrid system. The current density is expressed as\n",
    "$$\n",
    "\\mathbf{J}_{LH} = - n e v_\\parallel \\mathbf{e}_\\parallel\n",
    "$$\n",
    "where $v_\\parallel=c/n_\\parallel$. As we want the current driven to be in the same direction than the plasma current, i.e.:\n",
    "$$\n",
    "\\mathbf{J}_{LH}\\cdot\\mathbf{I}_p > 0\n",
    "$$\n",
    "one must have :\n",
    "$$\n",
    "n_\\parallel < 0\n",
    "$$"
   ]
  },
  {
   "cell_type": "markdown",
   "metadata": {},
   "source": [
    "## RF Measurements of the multijunction"
   ]
  },
  {
   "cell_type": "code",
   "execution_count": 15,
   "metadata": {},
   "outputs": [],
   "source": [
    "import numpy as np"
   ]
  },
  {
   "cell_type": "code",
   "execution_count": 16,
   "metadata": {},
   "outputs": [],
   "source": [
    "calibration = np.loadtxt('LH2_Multijunction_data/calibration.s2p', skiprows=5)\n",
    "fwd1 = np.loadtxt('LH2_Multijunction_data/fwd1.s2p', skiprows=5)\n",
    "fwd2 = np.loadtxt('LH2_Multijunction_data/fwd2.s2p', skiprows=5)\n",
    "fwd3 = np.loadtxt('LH2_Multijunction_data/fwd3.s2p', skiprows=5)\n",
    "fwd4 = np.loadtxt('LH2_Multijunction_data/fwd4.s2p', skiprows=5)\n",
    "fwd5 = np.loadtxt('LH2_Multijunction_data/fwd5.s2p', skiprows=5)\n",
    "fwd6 = np.loadtxt('LH2_Multijunction_data/fwd6.s2p', skiprows=5)\n",
    "f = calibration[:,0]\n",
    "S21_cal = calibration[:,3]"
   ]
  },
  {
   "cell_type": "code",
   "execution_count": 17,
   "metadata": {},
   "outputs": [
    {
     "data": {
      "text/plain": [
       "Text(0.5, 0, 'f [GHz]')"
      ]
     },
     "execution_count": 17,
     "metadata": {},
     "output_type": "execute_result"
    },
    {
     "data": {
      "image/png": "[encoded data removed]",
      "text/plain": [
       "<Figure size 432x288 with 1 Axes>"
      ]
     },
     "metadata": {
      "needs_background": "light"
     },
     "output_type": "display_data"
    }
   ],
   "source": [
    "fig, ax = plt.subplots()\n",
    "ax.plot(f/1e9, fwd1[:,3]-S21_cal)\n",
    "ax.plot(f/1e9, fwd2[:,3]-S21_cal)\n",
    "ax.plot(f/1e9, fwd3[:,3]-S21_cal)\n",
    "ax.plot(f/1e9, fwd4[:,3]-S21_cal)\n",
    "ax.plot(f/1e9, fwd5[:,3]-S21_cal)\n",
    "#ax.plot(f/1e9, fwd6[:,3]-S21_cal)\n",
    "ax.legend(('Forward wg#1', 'Forward wg#2','Forward wg#3','Forward wg#4','Forward wg#5'))\n",
    "ax.grid(True)\n",
    "ax.axvline(3.7, color='r', ls='--')\n",
    "ax.axhline(10*np.log10(1/6), color='gray', ls='--')\n",
    "ax.set_ylabel('S21 [dB]')\n",
    "ax.set_xlabel('f [GHz]')"
   ]
  },
  {
   "cell_type": "code",
   "execution_count": 18,
   "metadata": {},
   "outputs": [],
   "source": [
    "fwds = [fwd1, fwd2, fwd3, fwd4, fwd5, fwd6]\n",
    "s21 = []\n",
    "\n",
    "for fwd in fwds:\n",
    "    s21.append(10**((fwd[:,3]-S21_cal)/20) * np.exp(1j*fwd[:,4]*np.pi/180))\n",
    "s21 = np.asarray(s21)"
   ]
  },
  {
   "cell_type": "code",
   "execution_count": 19,
   "metadata": {},
   "outputs": [],
   "source": [
    "# find the 3.7 GHz point\n",
    "idx = np.argwhere(f == 3.7e9)\n",
    "s21_3dot7 = s21[:,idx].squeeze()"
   ]
  },
  {
   "cell_type": "code",
   "execution_count": 20,
   "metadata": {},
   "outputs": [
    {
     "data": {
      "text/plain": [
       "<BarContainer object of 6 artists>"
      ]
     },
     "execution_count": 20,
     "metadata": {},
     "output_type": "execute_result"
    },
    {
     "data": {
      "image/png": "[encoded data removed]",
      "text/plain": [
       "<Figure size 432x288 with 2 Axes>"
      ]
     },
     "metadata": {
      "needs_background": "light"
     },
     "output_type": "display_data"
    }
   ],
   "source": [
    "fig, ax = plt.subplots(nrows=2)\n",
    "ax[0].bar(np.arange(1,7), np.abs(s21_3dot7))\n",
    "ax[1].bar(np.arange(1,7), 180/np.pi*np.unwrap(np.angle(s21_3dot7)))"
   ]
  },
  {
   "cell_type": "markdown",
   "metadata": {},
   "source": [
    "Clearly, the last waveguide measurements are strange..."
   ]
  },
  {
   "cell_type": "markdown",
   "metadata": {},
   "source": [
    "## Checking the power conservation"
   ]
  },
  {
   "cell_type": "code",
   "execution_count": 21,
   "metadata": {},
   "outputs": [
    {
     "data": {
      "text/plain": [
       "Text(0.5, 0, 'f [GHz]')"
      ]
     },
     "execution_count": 21,
     "metadata": {},
     "output_type": "execute_result"
    },
    {
     "data": {
      "image/png": "[encoded data removed]",
      "text/plain": [
       "<Figure size 432x288 with 1 Axes>"
      ]
     },
     "metadata": {
      "needs_background": "light"
     },
     "output_type": "display_data"
    }
   ],
   "source": [
    "fig, ax = plt.subplots()\n",
    "plot(f/1e9, abs(s21**2).sum(axis=0))\n",
    "ax.grid(True)\n",
    "ax.axvline(3.7, color='r', ls='--')\n",
    "ax.set_ylabel('$\\sum |S_{21}|^2$ ')\n",
    "ax.set_xlabel('f [GHz]')"
   ]
  },
  {
   "cell_type": "markdown",
   "metadata": {},
   "source": [
    "Clearly, the power conservation is far from being verified, because of the large incertitude of the measurement here."
   ]
  },
  {
   "cell_type": "markdown",
   "metadata": {},
   "source": [
    "### CSS Styling"
   ]
  },
  {
   "cell_type": "code",
   "execution_count": 8,
   "metadata": {},
   "outputs": [
    {
     "data": {
      "text/html": [
       "<link href='http://fonts.googleapis.com/css?family=Fenix' rel='stylesheet' type='text/css'>\n",
       "<link href='http://fonts.googleapis.com/css?family=Alegreya+Sans:100,300,400,500,700,800,900,100italic,300italic,400italic,500italic,700italic,800italic,900italic' rel='stylesheet' type='text/css'>\n",
       "<link href='http://fonts.googleapis.com/css?family=Source+Code+Pro:300,400' rel='stylesheet' type='text/css'>\n",
       "<style>\n",
       "    @font-face {\n",
       "        font-family: \"Computer Modern\";\n",
       "        src: url('http://mirrors.ctan.org/fonts/cm-unicode/fonts/otf/cmunss.otf');\n",
       "    }\n",
       "    div.cell{\n",
       "        width:800px;\n",
       "        margin-left:16% !important;\n",
       "        margin-right:auto;\n",
       "    }\n",
       "    h1 {\n",
       "        font-family: 'Alegreya Sans', sans-serif;\n",
       "    }\n",
       "    h2 {\n",
       "        font-family: 'Fenix', serif;\n",
       "    }\n",
       "    h3{\n",
       "\t\tfont-family: 'Fenix', serif;\n",
       "        margin-top:12px;\n",
       "        margin-bottom: 3px;\n",
       "       }\n",
       "\th4{\n",
       "\t\tfont-family: 'Fenix', serif;\n",
       "       }\n",
       "    h5 {\n",
       "        font-family: 'Alegreya Sans', sans-serif;\n",
       "    }\t   \n",
       "    div.text_cell_render{\n",
       "        font-family: 'Alegreya Sans',Computer Modern, \"Helvetica Neue\", Arial, Helvetica, Geneva, sans-serif;\n",
       "        line-height: 135%;\n",
       "        font-size: 120%;\n",
       "        width:700px;\n",
       "        margin-left:auto;\n",
       "        margin-right:auto;\n",
       "    }\n",
       "    .CodeMirror{\n",
       "            font-family: \"Source Code Pro\";\n",
       "\t\t\tfont-size: 90%;\n",
       "    }\n",
       "/*    .prompt{\n",
       "        display: None;\n",
       "    }*/\n",
       "    .text_cell_render h1 {\n",
       "        font-weight: 200;\n",
       "        font-size: 50pt;\n",
       "\t\tline-height: 100%;\n",
       "        color:#CD2305;\n",
       "        margin-bottom: 0.5em;\n",
       "        margin-top: 0.5em;\n",
       "        display: block;\n",
       "    }\t\n",
       "    .text_cell_render h5 {\n",
       "        font-weight: 300;\n",
       "        font-size: 16pt;\n",
       "        color: #CD2305;\n",
       "        font-style: italic;\n",
       "        margin-bottom: .5em;\n",
       "        margin-top: 0.5em;\n",
       "        display: block;\n",
       "    }\n",
       "    \n",
       "    .warning{\n",
       "        color: rgb( 240, 20, 20 )\n",
       "        }  \n",
       "</style>\n",
       "<script>\n",
       "    MathJax.Hub.Config({\n",
       "                        TeX: {\n",
       "                           extensions: [\"AMSmath.js\"]\n",
       "                           },\n",
       "                tex2jax: {\n",
       "                    inlineMath: [ ['$','$'], [\"\\\\(\",\"\\\\)\"] ],\n",
       "                    displayMath: [ ['$$','$$'], [\"\\\\[\",\"\\\\]\"] ]\n",
       "                },\n",
       "                displayAlign: 'center', // Change this to 'center' to center equations.\n",
       "                \"HTML-CSS\": {\n",
       "                    styles: {'.MathJax_Display': {\"margin\": 4}}\n",
       "                }\n",
       "        });\n",
       "</script>\n"
      ],
      "text/plain": [
       "<IPython.core.display.HTML object>"
      ]
     },
     "execution_count": 8,
     "metadata": {},
     "output_type": "execute_result"
    }
   ],
   "source": [
    "from IPython.core.display import HTML\n",
    "def css_styling():\n",
    "    styles = open(\"../../styles/custom.css\", \"r\").read()\n",
    "    return HTML(styles)\n",
    "css_styling()"
   ]
  },
  {
   "cell_type": "code",
   "execution_count": null,
   "metadata": {},
   "outputs": [],
   "source": []
  }
 ],
 "metadata": {
  "kernelspec": {
   "display_name": "Python 3",
   "language": "python",
   "name": "python3"
  },
  "language_info": {
   "codemirror_mode": {
    "name": "ipython",
    "version": 3
   },
   "file_extension": ".py",
   "mimetype": "text/x-python",
   "name": "python",
   "nbconvert_exporter": "python",
   "pygments_lexer": "ipython3",
   "version": "3.6.8"
  }
 },
 "nbformat": 4,
 "nbformat_minor": 1
}
