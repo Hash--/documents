{
 "cells": [
  {
   "cell_type": "markdown",
   "metadata": {},
   "source": [
    "# Introduction"
   ]
  },
  {
   "cell_type": "markdown",
   "metadata": {},
   "source": [
    "On the Tore Supra Ion Cyclotron CRH antennas, RF probes are used to measure RF voltages and currents. These informations are mandatory in order to monitor the antenna behaviour as well as for its safety. The following Figure illustrates the WEST ICRH antenna design (with half of its Faraday screen), in which four RF probes are located behind the antenna radiating elements (aka the \"straps\").  \n",
    "\n",
    "![alt text](./ICRH_Probe-Calibration/WEST_antenna.png \"WEST ICRH Antenna\")"
   ]
  },
  {
   "cell_type": "markdown",
   "metadata": {},
   "source": [
    "RF probes are also used in test bed facilities, such a RF resonator. A resonator is a RF device which is used to test RF components at relevant voltages and currents (as high or higher than measured in an antenna, i.e. 40-60 kV and 1000-1200 A), for example for ITER. The Figure below illustrates a Ion Cyclotron frequency range (50-60 MHz) resonator, in which RF components expected in ITER are tested. \n",
    "\n",
    "![ICRH Resonator](./ICRH_Probe-Calibration/Resonator.png 'ICRH Resonator')"
   ]
  },
  {
   "cell_type": "markdown",
   "metadata": {},
   "source": [
    "While providing an accurate measurement, these probes have to operate under a severe environment (vacuum and steady-state RF power, which lead to probes heating). A conceptual design was defined in [1] and low gain (-80 dB) probes have been manufactured in order to cope with steady-state operations (reduced RF power collected by the probe, thus reduced heat loads). On the other hand, such low gain probe are delicate to calibrate, since their accuracy is roughly degradated due to the probe plug cavity ('edge effect'), but also by mechanical discrepencies.  "
   ]
  },
  {
   "cell_type": "markdown",
   "metadata": {},
   "source": [
    "During this hands-on, you will have to calibrate such a RF voltage probe. The aim of the calibration of such a probe is to determine the relationship between the voltage in the coaxial line and the voltage got for the probe. In order to perform such a calibration, a calibration setup is provided ; this setup mimics the section of the RF resonator illustrated above where the probe is located. \n",
    "\n",
    "![Calibration setup](./ICRH_Probe-Calibration/probe_calibration_setup_geometry.png 'Calibration setup')"
   ]
  },
  {
   "cell_type": "markdown",
   "metadata": {},
   "source": [
    "# Calibration setup"
   ]
  },
  {
   "cell_type": "markdown",
   "metadata": {},
   "source": [
    "## Test-bed setup"
   ]
  },
  {
   "cell_type": "markdown",
   "metadata": {},
   "source": [
    "The calibration setup has been built in order to reproduce the T-resonator configuration, since the latter is not suitable for direct connexions to the Network Analyser (VNA) via 9\" taper. A 9\" coaxial line is used (internal conductor: $\\phi$=140mm ; external conductor: $\\phi$=230mm) and equiped with a probe plug (a DN25 vacuum flange). Two impedance transformers $30\\Omega - 50\\Omega$ are used to match the VNA impedance.    "
   ]
  },
  {
   "cell_type": "markdown",
   "metadata": {},
   "source": [
    "## Probe setup"
   ]
  },
  {
   "cell_type": "markdown",
   "metadata": {},
   "source": [
    "The entire probe has been maufactured at CEA [2]. The SMA transition is a single-ended transition (Caburn reference 9251000). Details drawing are attached in appendix. "
   ]
  },
  {
   "cell_type": "markdown",
   "metadata": {},
   "source": [
    "## Electrical response"
   ]
  },
  {
   "cell_type": "markdown",
   "metadata": {},
   "source": [
    "The goal is to get a probe ouput signal between 0 à 10V. The voltage in the line is expected to be between 5kV and 55kV. The operating frequency is 60-65 MHz. The target gain of the probe has to be determined."
   ]
  },
  {
   "cell_type": "markdown",
   "metadata": {},
   "source": [
    "## Mechanical Discrepencies"
   ]
  },
  {
   "cell_type": "markdown",
   "metadata": {},
   "source": [
    "The probe copper head is located into the coaxial E-field between inner and outer conductors. Discrepencies are present with:\n",
    "\n",
    " * non-perfect geometry of the inner and outer conductors (1mm discrepency has been measured during dimension control)\n",
    " * Radial distance between inner and outer conductor can be modifier due to the whole T-resonator assembly\n",
    " * Probe manufacturing can introduce also some offsets and discrepencies \n"
   ]
  },
  {
   "cell_type": "markdown",
   "metadata": {},
   "source": [
    "# Measurements"
   ]
  },
  {
   "cell_type": "markdown",
   "metadata": {},
   "source": [
    "## Geometrical measurements"
   ]
  },
  {
   "cell_type": "markdown",
   "metadata": {},
   "source": [
    "The following dimensions must be measured:\n",
    "\n",
    "* radial distance between inner and outer conductor: 45 mm +/- 0.5\n",
    "* Distance between probe flange setup and inner conductor surface ($L_i$)\n",
    "* Distance between prove flange setup and outer conductor surface (inner side, $L_e$)\n",
    "* Solded probe length ($L$)\n",
    "\n",
    "![](./ICRH_Probe-Calibration/calibration_setup_dimensions.png 'Setup dimensions')"
   ]
  },
  {
   "cell_type": "markdown",
   "metadata": {},
   "source": [
    "## Preliminary RF measurements"
   ]
  },
  {
   "cell_type": "markdown",
   "metadata": {},
   "source": [
    "Before any RF measurements, it is necessary to perfom material characterization. Make the following preliminary measurements:"
   ]
  },
  {
   "cell_type": "markdown",
   "metadata": {},
   "source": [
    "* Cable losses\n",
    "* Connector losses\n",
    "* SPINNER impedance transformer loss (two transformer plugged together)\n",
    "* Matched loads impedance"
   ]
  },
  {
   "cell_type": "markdown",
   "metadata": {},
   "source": [
    "## Calibration setup 1"
   ]
  },
  {
   "cell_type": "markdown",
   "metadata": {},
   "source": [
    "In this setup, the frequency range is the nominal one. The electrical equivalent circuit of the setup is illustrated in the following Figure.\n",
    "\n",
    "![](./ICRH_Probe-Calibration/probe_calibration_setup_electrical_circuit.png 'Calibration Equivalent Circuit')"
   ]
  },
  {
   "cell_type": "markdown",
   "metadata": {},
   "source": [
    "* Determine the solded probe power ratio ($S_{21}$) as a function of the frequency, without the contribution of the cables losses and impedance transformer. \n",
    "* Compare this measure with the sliding probe for the same probe length $L$. Comment. \n",
    "* Use the sliding probe at different length $L$. Comment."
   ]
  },
  {
   "cell_type": "markdown",
   "metadata": {},
   "source": [
    "### Calibration procedure"
   ]
  },
  {
   "cell_type": "markdown",
   "metadata": {},
   "source": [
    "1. measure setup radial dimensions (L_e, L_i)\n",
    "1. measure the solded probe dimension (L)\n",
    "1. make S21 measurement in the calibration setup\n",
    "  * VNA in S parameter mode\n",
    "  * 55-65 MHz bandwidth\n",
    "  * Matched load (50 Ohm) at one end of the setup"
   ]
  },
  {
   "cell_type": "markdown",
   "metadata": {},
   "source": [
    "## Probe attenuation"
   ]
  },
  {
   "cell_type": "markdown",
   "metadata": {},
   "source": [
    "As ultimately we want a voltage signal between [0,10] V (it is a signal acquisition system requirement), so the signal obtained directly at the probe output has to be transformed. In practice, the probe is connected to a log amplifier, for which the output voltage is proportional to the log of the input voltage. This amplifier is constrainted to have an input signal power between [-4, 25] dBm (device requirement). Thus, ideally, the probe attenuation must be set accordingly in order to optimize the amplifier response band.\n",
    "\n",
    "![](./ICRH_Probe-Calibration/probe_calibration_setup_board_block_function.png 'Probe Calibration setup board function')"
   ]
  },
  {
   "cell_type": "markdown",
   "metadata": {},
   "source": [
    "Let $S_{21}$ being the probe attenuation factor, i.e. the ratio between the power coming from the probe to the power injected in the device, taking into account the input impedance transformer and the various connectors. The voltage at the probe is given from the voltage in the rigid coaxial transmission line (the one we want to measure) by:\n",
    "\n",
    "$$ V_{\\mathrm{probe}} [V] = V_{\\mathrm{port1}} [V] \\times10^{S_{21}/20} $$\n",
    "\n",
    "The power output from the probe is given from transmission line theory:\n",
    "\n",
    "$$ P_{\\mathrm{probe}} = \\frac{V_{\\mathrm{probe}}^2}{2 Z_0} $$\n",
    "\n",
    "with $Z_0$ the characteristic impedance of the probe output, 50 Ohm.\n",
    "\n",
    "\n",
    "To express an arbitrary power P in watts as x in dBm, or vice versa, the following equivalent expressions may be used:\n",
    "\n",
    "$$\n",
    "  x = 10 \\log_{10} \\frac{P}{ 1 \\mathrm{mW}} \\\\\n",
    "$$\n",
    "Thus the power is linked to the measured voltage as :\n",
    "\n",
    "$$P_{\\mathrm{probe}} [dBm] = 10 \\log_{10} \\left( \\frac{(V_{\\mathrm{line}} [V] \\times10^{S_{21}/20})^2}{2Z_0} \\times \\frac{1}{10^{-3} [W]} \\right) $$"
   ]
  },
  {
   "cell_type": "markdown",
   "metadata": {},
   "source": [
    "Assuming we want to measure voltage in the transmission line between 5 kV and 55 kV, what would be the ideal gain of a probe ? And thus, what should be the length of the ideal probe ? Discuss."
   ]
  },
  {
   "cell_type": "markdown",
   "metadata": {},
   "source": [
    "## Calibration setup 2"
   ]
  },
  {
   "cell_type": "markdown",
   "metadata": {},
   "source": [
    "In many electric circuits, the length of the wires connecting the components can for the most part be ignored. That is, the voltage on the wire at a given time can be assumed to be the same at all points. However, when the voltage changes in a time interval comparable to the time it takes for the signal to travel down the wire, the length becomes important and the wire must be treated as a transmission line. Stated another way, the length of the wire is important when the signal includes frequency components with corresponding wavelengths comparable to or less than the length of the wire.\n",
    "\n",
    "A common rule of thumb is that the cable or wire should be treated as a transmission line if the length is greater than 1/10 of the wavelength.  Inversely, if ones want to reduce this transmission line length effect, a solution is to reduce the frequency in order that the voltage could be considered comparable at two different point of the line. This section proposes such a procedure. "
   ]
  },
  {
   "cell_type": "markdown",
   "metadata": {},
   "source": [
    "### procedure at lower frequencies"
   ]
  },
  {
   "cell_type": "markdown",
   "metadata": {},
   "source": [
    "1. low frequency setup:\n",
    " * 0.3-2.4 MHz bandwidth\n",
    " * external configuration\n",
    " * meas/ratio/(b2/b1)\n",
    " * check input power (a1)\n",
    " * averaging / IF bandwidth tuning\n",
    " * open load\n",
    "2. assume voltage is uniform in this frequency range: voltage@probe = voltage@open \n",
    "3. measure ratio b2/b1 at few frequency points between 0.3-2.4 MHz\n",
    "4. extrapolate curve to operational frequency band --> S21@60MHz\n",
    "5. check result consistence with previous method"
   ]
  },
  {
   "cell_type": "markdown",
   "metadata": {},
   "source": [
    "# References"
   ]
  },
  {
   "cell_type": "markdown",
   "metadata": {},
   "source": [
    "* [1] A.Argouarch. T-resonator RF probe calibration. Technical note, 2012. I0000870368.\n",
    "* [2] A.Argouarch, L.Millon, G.Lombard, R.Volpe. RF Voltage probes development and calibration for the new TITAN matching system. Technical note 2011."
   ]
  },
  {
   "cell_type": "markdown",
   "metadata": {},
   "source": [
    "# Appendix"
   ]
  },
  {
   "cell_type": "markdown",
   "metadata": {},
   "source": [
    "![](./ICRH_Probe-Calibration/blueprint_probe2.png)"
   ]
  },
  {
   "cell_type": "markdown",
   "metadata": {},
   "source": [
    "![](./ICRH_Probe-Calibration/blueprint_probe1.png)"
   ]
  },
  {
   "cell_type": "markdown",
   "metadata": {},
   "source": [
    "![](./ICRH_Probe-Calibration/blueprint_probe3.png)"
   ]
  },
  {
   "cell_type": "markdown",
   "metadata": {},
   "source": [
    "======================================================================================"
   ]
  },
  {
   "cell_type": "markdown",
   "metadata": {},
   "source": [
    "# Solutions"
   ]
  },
  {
   "cell_type": "markdown",
   "metadata": {},
   "source": [
    "* Cables loss\n",
    "* SPINNER impedance transformer loss (two transformer plugged together) : -0.09 dB\n",
    "* Connector losses ??: -0.05 dB/connector (SMA-BNC and BNC-N)"
   ]
  },
  {
   "cell_type": "markdown",
   "metadata": {},
   "source": [
    "### Probe attenuation - solution"
   ]
  },
  {
   "cell_type": "markdown",
   "metadata": {},
   "source": [
    "Let's first illustrate this by an example, for a voltage in the line of 55 kV and -80 dB probe attenuation:"
   ]
  },
  {
   "cell_type": "code",
   "execution_count": 1,
   "metadata": {
    "collapsed": false
   },
   "outputs": [
    {
     "data": {
      "text/plain": [
       "5.5"
      ]
     },
     "execution_count": 1,
     "metadata": {},
     "output_type": "execute_result"
    }
   ],
   "source": [
    "S21 = -80 # Attenuation factor [dB]\n",
    "V_line = 55e3 # Voltage in the transmission line [V]\n",
    "V_probe= V_line * 10**(S21/20)\n",
    "V_probe # voltage at probe in [V]"
   ]
  },
  {
   "cell_type": "code",
   "execution_count": 2,
   "metadata": {
    "collapsed": false
   },
   "outputs": [
    {
     "data": {
      "text/plain": [
       "24.807253789884879"
      ]
     },
     "execution_count": 2,
     "metadata": {},
     "output_type": "execute_result"
    }
   ],
   "source": [
    "Z0 = 50 # Characteristic Impedance of the probe cable and amplifier [Ohm]\n",
    "Power_probe = 10*np.log10(V_probe**2 / (2*Z0) * 1000)\n",
    "Power_probe # power at the probe in [dBm]"
   ]
  },
  {
   "cell_type": "markdown",
   "metadata": {},
   "source": [
    "![](./ICRH_Probe-Calibration/signal_rectification.png)"
   ]
  },
  {
   "cell_type": "markdown",
   "metadata": {},
   "source": [
    "__Answer__: As we want to measure voltage between 5 and 55 kV, using the previous expressions lead to: \n",
    "$$\n",
    "10 \\log\\left( \n",
    "\\frac{10^{P_{probe,[dBM]}/10} 2 Z_0 }{ 1000  V_{line}^2 }\n",
    "\\right)\n",
    "$$"
   ]
  },
  {
   "cell_type": "code",
   "execution_count": 5,
   "metadata": {
    "collapsed": false
   },
   "outputs": [
    {
     "data": {
      "text/plain": [
       "-87.979400086720375"
      ]
     },
     "execution_count": 5,
     "metadata": {},
     "output_type": "execute_result"
    }
   ],
   "source": [
    "10*np.log10(10**(-4.0/10) * (2*50/1000) / 5e3**2)\n"
   ]
  },
  {
   "cell_type": "code",
   "execution_count": 4,
   "metadata": {
    "collapsed": false
   },
   "outputs": [
    {
     "data": {
      "text/plain": [
       "-79.807253789884868"
      ]
     },
     "execution_count": 4,
     "metadata": {},
     "output_type": "execute_result"
    }
   ],
   "source": [
    "10*np.log10(10**(+25.0/10) * (2*50/1000) / 55e3**2)"
   ]
  },
  {
   "cell_type": "markdown",
   "metadata": {},
   "source": [
    "Thus the expected ideal gain should be in between -79 and -87 dB. Note that the amplifier response also depends of the frequency. This value takes into account the additional losses existing between the probe and the acquisition system."
   ]
  },
  {
   "cell_type": "markdown",
   "metadata": {},
   "source": [
    "# Calibration protocols"
   ]
  },
  {
   "cell_type": "markdown",
   "metadata": {},
   "source": [
    "## The edge effect"
   ]
  },
  {
   "cell_type": "markdown",
   "metadata": {},
   "source": [
    "The probe objective is to measure the electric field in the transmission line. However, the targetted low gain for the RF probe leads to locate the copper head of the probe inside the port plug cavity. This can involve some uncertainties and spurious effects on the real probe gain. The aim of this section is to evaluate these uncertities (?) and to propose a calibration procedure that take into account this challenge.   "
   ]
  },
  {
   "cell_type": "markdown",
   "metadata": {},
   "source": [
    "### Coaxial line voltage"
   ]
  },
  {
   "cell_type": "markdown",
   "metadata": {},
   "source": [
    "![](http://www.uic.edu/classes/eecs/eecs401/Week8/coaxial_cable.gif)"
   ]
  },
  {
   "cell_type": "markdown",
   "metadata": {},
   "source": [
    "We remind that the electric field inside a coaxial line under voltage $V$ is ($b>\\rho>a$):\n",
    "$$ \\mathbf{E}(\\rho) = \\frac{V}{\\ln(b/a)}\\frac{1}{\\rho} \\mathbf{a}_\\rho$$\n",
    "where $a$ in the inner conductor radius and $b$ the outer conductor radius."
   ]
  }
 ],
 "metadata": {
  "kernelspec": {
   "display_name": "Python 3",
   "language": "python",
   "name": "python3"
  },
  "language_info": {
   "codemirror_mode": {
    "name": "ipython",
    "version": 3
   },
   "file_extension": ".py",
   "mimetype": "text/x-python",
   "name": "python",
   "nbconvert_exporter": "python",
   "pygments_lexer": "ipython3",
   "version": "3.5.1"
  }
 },
 "nbformat": 4,
 "nbformat_minor": 0
}
