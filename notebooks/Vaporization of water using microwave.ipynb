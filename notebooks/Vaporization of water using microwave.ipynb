{
 "cells": [
  {
   "cell_type": "markdown",
   "metadata": {},
   "source": [
    "In this notebook, we explore how much energy is needed to vaporize (from microwaves) a certain quantity of water."
   ]
  },
  {
   "cell_type": "markdown",
   "metadata": {},
   "source": [
    "## Rising the water temperature up to 100°C. "
   ]
  },
  {
   "cell_type": "markdown",
   "metadata": {},
   "source": [
    "The [specific heat](https://en.wikipedia.org/wiki/Heat_capacity) of water is $C_P$ = 4185.5 J/(kg⋅K). Given a initial temperature of 15°C"
   ]
  },
  {
   "cell_type": "code",
   "execution_count": 1,
   "metadata": {
    "collapsed": true
   },
   "outputs": [],
   "source": [
    "T_init = 15 # °C\n",
    "T_vapo = 100 # °C\n",
    "C_P = 4185.5 # J/(kg.K)\n",
    "m_water = 1 # kg"
   ]
  },
  {
   "cell_type": "code",
   "execution_count": 2,
   "metadata": {
    "collapsed": false
   },
   "outputs": [
    {
     "name": "stdout",
     "output_type": "stream",
     "text": [
      "Energy [J] required to heat the water up to 100°C : 355767.5 J\n"
     ]
    }
   ],
   "source": [
    "nrj_100 = m_water * C_P * (T_vapo - T_init)\n",
    "print('Energy [J] required to heat the water up to 100°C : {} J'.format(nrj_100))"
   ]
  },
  {
   "cell_type": "markdown",
   "metadata": {},
   "source": [
    "## Vaporization of the water"
   ]
  },
  {
   "cell_type": "markdown",
   "metadata": {},
   "source": []
  },
  {
   "cell_type": "markdown",
   "metadata": {},
   "source": [
    "[Enthalpy of Vaporization](https://en.wikipedia.org/wiki/Enthalpy_of_vaporization) is the enthalpy change required to transform a given quantity of a substance from a liquid into a gas at a given pressure. For water at its normal boiling point of 100 ºC, the heat of vaporization is 2257 kJ/kg : this is the amount of energy required to convert 1 g of water into 1 g of vapor without a change in temperature."
   ]
  },
  {
   "cell_type": "code",
   "execution_count": 3,
   "metadata": {
    "collapsed": false
   },
   "outputs": [
    {
     "name": "stdout",
     "output_type": "stream",
     "text": [
      "Energy [J] required to convert 1 kg of liquid water into vapor : 2257000.0 J\n"
     ]
    }
   ],
   "source": [
    "C_v = 2257e3 # J/kg\n",
    "nrj_vapor = m_water * C_v\n",
    "print('Energy [J] required to convert {} kg of liquid water into vapor : {} J'.format(m_water, nrj_vapor))"
   ]
  },
  {
   "cell_type": "code",
   "execution_count": 4,
   "metadata": {
    "collapsed": false
   },
   "outputs": [
    {
     "name": "stdout",
     "output_type": "stream",
     "text": [
      "Total energy required to vaporize 1 kg of water at 15°C into vapor : 2612767.5 J\n"
     ]
    }
   ],
   "source": [
    "print('Total energy required to vaporize {} kg of water at {}°C into vapor : {} J'.format(m_water, T_init, nrj_100+nrj_vapor))"
   ]
  },
  {
   "cell_type": "code",
   "execution_count": null,
   "metadata": {
    "collapsed": true
   },
   "outputs": [],
   "source": []
  }
 ],
 "metadata": {
  "kernelspec": {
   "display_name": "Python [default]",
   "language": "python",
   "name": "python3"
  },
  "language_info": {
   "codemirror_mode": {
    "name": "ipython",
    "version": 3
   },
   "file_extension": ".py",
   "mimetype": "text/x-python",
   "name": "python",
   "nbconvert_exporter": "python",
   "pygments_lexer": "ipython3",
   "version": "3.5.2"
  }
 },
 "nbformat": 4,
 "nbformat_minor": 0
}
