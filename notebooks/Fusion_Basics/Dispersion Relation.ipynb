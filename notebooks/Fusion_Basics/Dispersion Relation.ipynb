{
 "cells": [
  {
   "cell_type": "code",
   "execution_count": 1,
   "metadata": {
    "collapsed": false
   },
   "outputs": [
    {
     "name": "stdout",
     "output_type": "stream",
     "text": [
      "Using matplotlib backend: Qt5Agg\n",
      "Populating the interactive namespace from numpy and matplotlib\n"
     ]
    }
   ],
   "source": [
    "%pylab\n",
    "%matplotlib inline"
   ]
  },
  {
   "cell_type": "code",
   "execution_count": 2,
   "metadata": {
    "collapsed": true
   },
   "outputs": [],
   "source": [
    "from scipy.constants import epsilon_0, electron_mass, elementary_charge, physical_constants"
   ]
  },
  {
   "cell_type": "markdown",
   "metadata": {},
   "source": [
    "# The Dispersion Relation\n",
    "The _dispersion relation_ is the function that relates the frequency $\\omega$ and the wavevector $k$. It characterizes each wave type and leads to the labels for the various type.\n"
   ]
  },
  {
   "cell_type": "markdown",
   "metadata": {},
   "source": [
    " - CMA diagram\n",
    " - phase velocity vs normalized frequency\n",
    " - normalized or not\n",
    " - density\n",
    " - angle\n",
    " - field strength\n",
    " \n",
    " - transverse motions of the electrons on cyclotron resonance sec.2.9.3"
   ]
  },
  {
   "cell_type": "markdown",
   "metadata": {},
   "source": [
    "The plasma pulsation is :\n",
    "$$\n",
    "\\omega_{p_s} = \\sqrt{\\frac{n_s q_s^2}{m_s \\varepsilon_0}}\n",
    "$$"
   ]
  },
  {
   "cell_type": "code",
   "execution_count": 3,
   "metadata": {
    "collapsed": false
   },
   "outputs": [],
   "source": [
    "def plasma_frequency(n, q, m):\n",
    "    '''\n",
    "    Returns the plasma angular frequency for a given species.\n",
    "    '''\n",
    "    omega_p = sqrt(n*q**2/(m*epsilon_0))\n",
    "    return omega_p\n",
    "\n",
    "def cyclotron_frequency(q, m, B0):\n",
    "    '''\n",
    "    Returns the cyclotron angular frequency for a given species.\n",
    "    '''\n",
    "    omega_c = np.abs(q)*B0/m\n",
    "    return omega_c"
   ]
  },
  {
   "cell_type": "markdown",
   "metadata": {},
   "source": [
    "Let's define a convenient object: a particle species."
   ]
  },
  {
   "cell_type": "code",
   "execution_count": 4,
   "metadata": {
    "collapsed": false
   },
   "outputs": [],
   "source": [
    "class Species:\n",
    "    def __init__(self, m, q, description=None):\n",
    "        self.m = m\n",
    "        self.q = q\n",
    "        self.description = description\n",
    "    def omega_p(self, n):\n",
    "        return plasma_frequency(n, self.q, self.m)\n",
    "    def omega_c(self, B0):\n",
    "        return cyclotron_frequency(self.q, self.m, B0)\n",
    "    def __repr__(self):\n",
    "        return 'Specie:{}. Mass:{} kg, charge:{} C'.format(self.description, self.m, self.q)"
   ]
  },
  {
   "cell_type": "code",
   "execution_count": 5,
   "metadata": {
    "collapsed": false
   },
   "outputs": [
    {
     "name": "stdout",
     "output_type": "stream",
     "text": [
      "Specie:Electron. Mass:9.10938356e-31 kg, charge:-1.6021766208e-19 C\n",
      "Specie:Deuterium. Mass:3.343583719e-27 kg, charge:1.6021766208e-19 C\n"
     ]
    }
   ],
   "source": [
    "electron = Species(electron_mass, -elementary_charge, description='Electron')\n",
    "print(electron)\n",
    "\n",
    "deuterium = Species(physical_constants['deuteron mass'][0], +elementary_charge, description='Deuterium')\n",
    "print(deuterium)"
   ]
  },
  {
   "cell_type": "markdown",
   "metadata": {},
   "source": [
    "## The cold plasma tensor\n",
    "The cold plasma tensor is given by:\n",
    "$$\n",
    "\\mathbf{K} = \\left(\n",
    "\\begin{matrix}\n",
    "K_\\perp & K_\\times & 0 \\\\\n",
    "-K_\\times & K_\\perp & 0 \\\\\n",
    "0 & 0 & K_\\parallel\n",
    "\\end{matrix}\n",
    "\\right)\n",
    "$$\n",
    "with\n",
    "$$\n",
    "\\begin{array}{lcl}\n",
    "K_\\perp = S &=& 1 - \\displaystyle \\sum_k  \\frac{\\omega_{pk}^2}{\\omega^2 - \\omega_{ck}^2}\n",
    "\\\\\n",
    "i K_\\times = D &=& \\displaystyle \\sum_k \\frac{\\epsilon_k \\omega_{ck} \\omega_{pk}^2}\n",
    "{\\omega \\left( \\omega^2 - \\omega_{ck}^2\\right)}\n",
    "\\\\\n",
    "K_\\parallel = P &=& 1 - \\displaystyle \\sum_k \\frac{\\omega_{pk}^2}{\\omega^2}\n",
    "\\end{array}\n",
    "$$"
   ]
  },
  {
   "cell_type": "code",
   "execution_count": 6,
   "metadata": {
    "collapsed": false
   },
   "outputs": [],
   "source": [
    "def K_perp(species, n, B0, f):\n",
    "    K_perp = 1\n",
    "    omega = 2*np.pi*f\n",
    "\n",
    "    for k, specie in enumerate(species):\n",
    "        K_perp -= specie.omega_p(n[k])**2 / (omega**2 - specie.omega_c(B0)**2)        \n",
    "    return K_perp\n",
    "\n",
    "def K_parallel(species, n, f):\n",
    "    K_parallel = 1\n",
    "    omega = 2*np.pi*f\n",
    "    for k,specie in enumerate(species):\n",
    "        K_parallel -= specie.omega_p(n[k])**2 / omega**2\n",
    "    return K_parallel\n",
    "\n",
    "def K_cross(species, n, B0, f):\n",
    "    K_cross = 0\n",
    "    omega = 2*np.pi*f\n",
    "\n",
    "    for k, specie in enumerate(species):\n",
    "        K_cross +=  np.sign(specie.q) * specie.omega_c(B0) * specie.omega_p(n[k])**2 / (omega*(omega**2 - specie.omega_c(B0)**2))        \n",
    "    return -1j*K_cross"
   ]
  },
  {
   "cell_type": "code",
   "execution_count": 7,
   "metadata": {
    "collapsed": false
   },
   "outputs": [
    {
     "name": "stdout",
     "output_type": "stream",
     "text": [
      "1.01053942851\n",
      "0.677446602595\n",
      "-0.05949695354234114j\n"
     ]
    },
    {
     "data": {
      "text/plain": [
       "-1.0"
      ]
     },
     "execution_count": 7,
     "metadata": {},
     "output_type": "execute_result"
    }
   ],
   "source": [
    "plasma = (electron, deuterium)\n",
    "n_e = 1e17 # m^-3\n",
    "n_D = 1e17 # m^-3\n",
    "n = (n_e, n_D)\n",
    "B0 = 1 # T\n",
    "f = 5e9 # Hz\n",
    "print(K_perp(plasma, n, B0, f))\n",
    "print(K_parallel(plasma, n, f))\n",
    "print(K_cross(plasma, n, B0, f))\n",
    "np.sign(electron.q)"
   ]
  },
  {
   "cell_type": "code",
   "execution_count": 8,
   "metadata": {
    "collapsed": false
   },
   "outputs": [
    {
     "data": {
      "text/plain": [
       "<matplotlib.text.Text at 0xafaf0b8>"
      ]
     },
     "execution_count": 8,
     "metadata": {},
     "output_type": "execute_result"
    },
    {
     "data": {
      "image/png": "[encoded data removed]",
      "text/plain": [
       "<matplotlib.figure.Figure at 0x9bda320>"
      ]
     },
     "metadata": {},
     "output_type": "display_data"
    }
   ],
   "source": [
    "freqs = np.logspace(6, 11, 1001)\n",
    "loglog(freqs, abs(K_parallel(plasma, n, freqs)), lw=2)\n",
    "loglog(freqs, abs(K_perp(plasma, n, B0, freqs)), lw=2)\n",
    "loglog(freqs, abs(1j*K_cross(plasma, n, B0, freqs)), lw=2)\n",
    "xlabel('f [Hz]', fontsize=16)\n",
    "yticks(fontsize=16)\n",
    "xticks(fontsize=16)\n",
    "grid(True)\n",
    "legend(('$K_\\parallel$', '$K_\\perp$', '$K_X$' ), fontsize=16)\n",
    "\n",
    "axvline(deuterium.omega_c(B0)/(2*pi), lw=2, ls='--', color='k')\n",
    "text(x=2.5e6, y=1e4, s='$\\omega_{c,D}$', fontsize=16)\n",
    "axvline(deuterium.omega_p(n_e)/(2*pi), lw=2, ls='--', color='g')\n",
    "text(x=1e8, y=1e5, s='$\\omega_{p,D}$', fontsize=16)\n",
    "axvline(electron.omega_p(n_e)/(2*pi), lw=2, ls='--', color='g')\n",
    "text(x=1e9, y=1e5, s='$\\omega_{p,e}$', fontsize=16)\n",
    "axvline(electron.omega_c(B0)/(2*pi), lw=2, ls='--', color='k')\n",
    "text(x=1e10, y=1e1, s='$\\omega_{c,e}$', fontsize=16)"
   ]
  },
  {
   "cell_type": "code",
   "execution_count": 9,
   "metadata": {
    "collapsed": false
   },
   "outputs": [],
   "source": [
    "def solve_dispersion_relation(plasma, n, B0, f, theta):\n",
    "    S = K_perp(plasma, n, B0, f)\n",
    "    P = K_parallel(plasma, n, f)\n",
    "    D = 1j*K_cross(plasma, n, B0, f)\n",
    "    \n",
    "    R = S+D\n",
    "    L = S-D\n",
    "    \n",
    "    A = S*np.sin(theta)**2 + P*np.cos(theta)**2\n",
    "    B = R*L*np.sin(theta)**2 + P*S*(1+np.cos(theta)**2)\n",
    "    C = P*R*L\n",
    "    p = (A,B,C)\n",
    "    n = np.roots(p)\n",
    "    \n",
    "    return n"
   ]
  },
  {
   "cell_type": "code",
   "execution_count": 10,
   "metadata": {
    "collapsed": false
   },
   "outputs": [
    {
     "data": {
      "text/plain": [
       "<matplotlib.text.Text at 0xb3afc50>"
      ]
     },
     "execution_count": 10,
     "metadata": {},
     "output_type": "execute_result"
    },
    {
     "data": {
      "image/png": "[encoded data removed]",
      "text/plain": [
       "<matplotlib.figure.Figure at 0xb026cf8>"
      ]
     },
     "metadata": {},
     "output_type": "display_data"
    }
   ],
   "source": [
    "diel_index = np.array([solve_dispersion_relation(plasma, n, B0=3, f=f, theta=0) for f in freqs])\n",
    "\n",
    "loglog(freqs, real(diel_index[:,0]), lw=2)\n",
    "loglog(freqs, real(diel_index[:,1]), lw=2)\n",
    "grid(True)\n",
    "xlabel('f [Hz]', fontsize=16)"
   ]
  },
  {
   "cell_type": "markdown",
   "metadata": {},
   "source": [
    "# References\n",
    " - Swanson, Plasma Waves, chap.2"
   ]
  }
 ],
 "metadata": {
  "kernelspec": {
   "display_name": "Python [default]",
   "language": "python",
   "name": "python3"
  },
  "language_info": {
   "codemirror_mode": {
    "name": "ipython",
    "version": 3
   },
   "file_extension": ".py",
   "mimetype": "text/x-python",
   "name": "python",
   "nbconvert_exporter": "python",
   "pygments_lexer": "ipython3",
   "version": "3.5.2"
  }
 },
 "nbformat": 4,
 "nbformat_minor": 0
}
