{
 "cells": [
  {
   "cell_type": "markdown",
   "id": "8820cc06",
   "metadata": {},
   "source": [
    "# How Much Energy Does Fusion Produce?"
   ]
  },
  {
   "cell_type": "markdown",
   "id": "7a244dec",
   "metadata": {},
   "source": [
    "## Number of atoms in a given volume $V$ of water"
   ]
  },
  {
   "cell_type": "markdown",
   "id": "d62b216f",
   "metadata": {},
   "source": [
    "Let's assume a volume $V$ of water"
   ]
  },
  {
   "cell_type": "code",
   "execution_count": 18,
   "id": "b117727d",
   "metadata": {},
   "outputs": [],
   "source": [
    "V = 1.0  # L"
   ]
  },
  {
   "cell_type": "markdown",
   "id": "b513e531",
   "metadata": {},
   "source": [
    "The volumic mass of water is supposed to be 1 kg/L, so the mass $M_w$ of water is"
   ]
  },
  {
   "cell_type": "code",
   "execution_count": 19,
   "id": "e9c3fc68",
   "metadata": {},
   "outputs": [],
   "source": [
    "M_w = 1 * V  # kg"
   ]
  },
  {
   "cell_type": "markdown",
   "id": "da590330",
   "metadata": {},
   "source": [
    "We remind that 1 mole contains $N_A$ elements, where:"
   ]
  },
  {
   "cell_type": "code",
   "execution_count": 20,
   "id": "4d68e7b7",
   "metadata": {},
   "outputs": [],
   "source": [
    "N_A = 6.02214076e23  # Avogadro Number"
   ]
  },
  {
   "cell_type": "markdown",
   "id": "529f27bd",
   "metadata": {},
   "source": [
    "We remind that The [molar mass](https://en.wikipedia.org/wiki/Molar_mass) $M$ in g/mol of an atom is given by the relative atomic mass of the element multiplied by the molar mass constant $M_u$. The chemical formula of water is H20. The molar mass of H is 1 g/mol and O is 16 g/mol. Hence, a water molecule is 2x1+16=18 g/mol, so 1 mole of H2O weights 18g.\n",
    "\n",
    "So, in a mass $M_w$ of water, one could count $N$ molecules of H20:"
   ]
  },
  {
   "cell_type": "code",
   "execution_count": 21,
   "id": "76f31d88",
   "metadata": {},
   "outputs": [
    {
     "name": "stdout",
     "output_type": "stream",
     "text": [
      "Number of H2O molecules in a volume V of water: 5.018450633333334e+25\n"
     ]
    }
   ],
   "source": [
    "M_1mole_water = 18e-3  # kg\n",
    "N_molecules = M_w/M_1mole_water * N_A\n",
    "print(f'Number of H2O molecules in a volume V of water: {N_molecules}')"
   ]
  },
  {
   "cell_type": "markdown",
   "id": "66c9d852",
   "metadata": {},
   "source": [
    "Since there are 3 atoms (2H+1O) in a water modelcule, the total number of atoms in a mass $M_w$ of water is then:"
   ]
  },
  {
   "cell_type": "code",
   "execution_count": 22,
   "id": "f19d0f10",
   "metadata": {},
   "outputs": [
    {
     "name": "stdout",
     "output_type": "stream",
     "text": [
      "Total number of atoms in a volume V of water: 1.5055351900000002e+26\n"
     ]
    }
   ],
   "source": [
    "N_total = 3*N_molecules\n",
    "print(f'Total number of atoms in a volume V of water: {N_total}')"
   ]
  },
  {
   "cell_type": "markdown",
   "id": "8c62267f",
   "metadata": {},
   "source": [
    "Since we are only interested in Hydrogen atoms, that is the 2/3 of the total number of atomes, there are $N_H$ atoms of Hydrogen in $M_w$ kg of water:"
   ]
  },
  {
   "cell_type": "code",
   "execution_count": 23,
   "id": "571997de",
   "metadata": {},
   "outputs": [
    {
     "name": "stdout",
     "output_type": "stream",
     "text": [
      "Number of Hydrogen atoms in a volume V of water: 1.0036901266666668e+26\n"
     ]
    }
   ],
   "source": [
    "N_H = N_total * 2/3\n",
    "print(f'Number of Hydrogen atoms in a volume V of water: {N_H}')"
   ]
  },
  {
   "cell_type": "markdown",
   "id": "ef9b48de",
   "metadata": {},
   "source": [
    "## Number of Deuterium atoms\n",
    "Deuterium is a Hydrogen isotope and exists naturally on Earth. From Wikipedia, the natural abondance of Deuterium is 0.015%"
   ]
  },
  {
   "cell_type": "code",
   "execution_count": 24,
   "id": "8aeb1d26",
   "metadata": {},
   "outputs": [],
   "source": [
    "# D natural abondance (isotopic ratio H/D)\n",
    "ratio_D_over_H = 0.0153 / 100"
   ]
  },
  {
   "cell_type": "markdown",
   "id": "3ecd6dc8",
   "metadata": {},
   "source": [
    "Hence the number of Deuterium atoms in the mass $M_w$ of water is:"
   ]
  },
  {
   "cell_type": "code",
   "execution_count": 25,
   "id": "5ba9c104",
   "metadata": {},
   "outputs": [
    {
     "name": "stdout",
     "output_type": "stream",
     "text": [
      "Number of Deuterium atoms in a volume V of water: 1.5356458938000002e+22\n"
     ]
    }
   ],
   "source": [
    "N_D = N_H * ratio_D_over_H\n",
    "print(f'Number of Deuterium atoms in a volume V of water: {N_D}')"
   ]
  },
  {
   "cell_type": "markdown",
   "id": "43a98266",
   "metadata": {},
   "source": [
    "## D-T fusion reaction"
   ]
  },
  {
   "cell_type": "markdown",
   "id": "f9ee8381",
   "metadata": {},
   "source": [
    "Suppose one brings as much as Tritium atoms $N_T$ as Deuterium atoms $N_D$, ie $N_D = N_T$.\n",
    "\n",
    "The D-T fusion generates:\n",
    "$$\n",
    "D + T \\rightarrow He4 (3.54 MeV) + n (14.05 MeV)\n",
    "$$\n",
    "that is a total energy of:"
   ]
  },
  {
   "cell_type": "code",
   "execution_count": 26,
   "id": "227a2287",
   "metadata": {},
   "outputs": [
    {
     "name": "stdout",
     "output_type": "stream",
     "text": [
      "One D-T fusion produces 17.59 MeV\n"
     ]
    }
   ],
   "source": [
    "E_DT_MeV = 3.54 + 14.05 # in MeV\n",
    "print(f'One D-T fusion produces {E_DT_MeV} MeV')"
   ]
  },
  {
   "cell_type": "markdown",
   "id": "3327936d",
   "metadata": {},
   "source": [
    "Converting this quantity in Joules:"
   ]
  },
  {
   "cell_type": "code",
   "execution_count": 27,
   "id": "d759917d",
   "metadata": {},
   "outputs": [
    {
     "name": "stdout",
     "output_type": "stream",
     "text": [
      "One D-T fusion produces 2.81823462e-12 Joules\n"
     ]
    }
   ],
   "source": [
    "E_DT_J = 1.60218e-13 * E_DT_MeV\n",
    "print(f'One D-T fusion produces {E_DT_J} Joules')"
   ]
  },
  {
   "cell_type": "markdown",
   "id": "43fc72dc",
   "metadata": {},
   "source": [
    "Multypling the number of Deuterium and Tritium atoms, the ideal total energy that could be liberated from a volume $V$ of water is:"
   ]
  },
  {
   "cell_type": "code",
   "execution_count": 28,
   "id": "f6af47a3",
   "metadata": {},
   "outputs": [
    {
     "name": "stdout",
     "output_type": "stream",
     "text": [
      "Total energy eventually liberated from fusing the D atoms contained in a Volume V of water: 43278104219.680046 Joules\n"
     ]
    }
   ],
   "source": [
    "E_total_J = E_DT_J * N_D\n",
    "print(f'Total energy eventually liberated from fusing the D atoms contained in a Volume V of water: {E_total_J} Joules')"
   ]
  },
  {
   "cell_type": "code",
   "execution_count": 33,
   "id": "226d619d",
   "metadata": {},
   "outputs": [
    {
     "name": "stdout",
     "output_type": "stream",
     "text": [
      "Total energy eventually liberated from fusing all D atoms contained in a Volume V of water adding the same amount of Tritium: 12.021705233934282 MWh\n"
     ]
    }
   ],
   "source": [
    "E_total_MWh = 2.77778e-10 * E_total_J\n",
    "print(f'Total energy eventually liberated from fusing all D atoms contained in a Volume V of water adding the same amount of Tritium: {E_total_MWh} MWh')"
   ]
  },
  {
   "cell_type": "markdown",
   "id": "db819cbf",
   "metadata": {},
   "source": [
    "## Energy Consumption of an House\n",
    "Consommation moyenne d’une maison: ~10 000 kWh during 1 year"
   ]
  },
  {
   "cell_type": "code",
   "execution_count": 32,
   "id": "cef0b301",
   "metadata": {},
   "outputs": [],
   "source": [
    "E_house_MHh = 10  # MWh"
   ]
  },
  {
   "cell_type": "markdown",
   "id": "07408bfe",
   "metadata": {},
   "source": [
    "## World average energy consumption\n"
   ]
  },
  {
   "cell_type": "markdown",
   "id": "c1dd5de6",
   "metadata": {},
   "source": [
    "Consommation énergie mondiale: $6x10^{20}$ J (2013)"
   ]
  },
  {
   "cell_type": "code",
   "execution_count": 36,
   "id": "c85a6025",
   "metadata": {},
   "outputs": [],
   "source": [
    "E_world_per_year_J = 6e20"
   ]
  },
  {
   "cell_type": "markdown",
   "id": "4ce6993d",
   "metadata": {},
   "source": [
    "## Ocean Water volume\n",
    "Volume des océans: $10^{18}$ m^3"
   ]
  },
  {
   "cell_type": "code",
   "execution_count": 35,
   "id": "333438df",
   "metadata": {},
   "outputs": [],
   "source": [
    "V_ocean = 1e18  # m^3"
   ]
  },
  {
   "cell_type": "markdown",
   "id": "bdce7e7a",
   "metadata": {},
   "source": [
    "## Theoretical energy stored in the Ocean volume"
   ]
  },
  {
   "cell_type": "code",
   "execution_count": 37,
   "id": "0094674c",
   "metadata": {},
   "outputs": [],
   "source": [
    "V_ocean_L = V_ocean * 1e3  # L"
   ]
  },
  {
   "cell_type": "code",
   "execution_count": 39,
   "id": "1b406482",
   "metadata": {},
   "outputs": [],
   "source": [
    "nb_years = E_total_J * V_ocean_L / E_world_per_year_J"
   ]
  },
  {
   "cell_type": "code",
   "execution_count": 41,
   "id": "b9517c7a",
   "metadata": {},
   "outputs": [
    {
     "name": "stdout",
     "output_type": "stream",
     "text": [
      "Estimated ideal number of year of energy for the world: 7.213017e+10 years\n"
     ]
    }
   ],
   "source": [
    "print(f'Estimated ideal number of year of energy for the world: {nb_years:e} years')"
   ]
  },
  {
   "cell_type": "code",
   "execution_count": null,
   "id": "6e41a5bf",
   "metadata": {},
   "outputs": [],
   "source": []
  }
 ],
 "metadata": {
  "kernelspec": {
   "display_name": "Python 3 (ipykernel)",
   "language": "python",
   "name": "python3"
  },
  "language_info": {
   "codemirror_mode": {
    "name": "ipython",
    "version": 3
   },
   "file_extension": ".py",
   "mimetype": "text/x-python",
   "name": "python",
   "nbconvert_exporter": "python",
   "pygments_lexer": "ipython3",
   "version": "3.9.7"
  }
 },
 "nbformat": 4,
 "nbformat_minor": 5
}
