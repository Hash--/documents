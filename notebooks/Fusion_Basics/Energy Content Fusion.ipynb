{
 "cells": [
  {
   "cell_type": "markdown",
   "id": "8820cc06",
   "metadata": {},
   "source": [
    "# How Much Energy Does Nuclear Fusion Produce?\n",
    "The goal of this notebook is to investigate how much energy is procuded with nuclear fusion and to have a glimpse ofhow it compares to other source of energy. The ressources eventually necessary to derive the calculations below can all be find in Wikipedia.\n",
    "\n",
    "## Fusion Reactions\n",
    "\n",
    "Several fusion reaction exist (https://en.wikipedia.org/wiki/Nuclear_fusion#Important_reactions) and the more \"easy\" ones to realize on Earth are associated with Deuterium (D), Tritium (T), Helium-3 (He3) or eventually Boron (B). In the calculations below, we choose to use the D-T fusion reaction, as Deuterium is relatively abundant on Earth, but other choice could be investigated.\n",
    "\n",
    "To evaluate the usefulness of these reactions, in addition to the reactants, the products, and the energy released, one needs to know something about the  probability that a nuclear reaction will occur. This probability is described by the nuclear cross section (https://en.wikipedia.org/wiki/Nuclear_cross_section). \n",
    "\n",
    "In this work however, we will not look in details to these cross sections and we will only assume that these fusion reactions are achievable, to evaluate the theoretical amount of combustible(s) necessary to produce a given energy.\n",
    "\n",
    "As Deuterium can be find in water, we will investigate here how much energy could be in theory be released for volume $V$ of water. As the energy released by one fusion reaction is known, we first need to evaluate the number of Deuterium atoms within this volume $V$ of water."
   ]
  },
  {
   "cell_type": "markdown",
   "id": "7a244dec",
   "metadata": {},
   "source": [
    "## Number of atoms in a given volume $V$ of water\n",
    "<img src=\"figures/water.png\" width=\"60\" align=\"right\">\n",
    "Let's assume a volume $V$ of water"
   ]
  },
  {
   "cell_type": "code",
   "execution_count": 47,
   "id": "b117727d",
   "metadata": {},
   "outputs": [],
   "source": [
    "V = 1.3  # L"
   ]
  },
  {
   "cell_type": "markdown",
   "id": "b513e531",
   "metadata": {},
   "source": [
    "The density (https://en.wikipedia.org/wiki/Density#Various_materials) of water is assumed to be 1000 kg/m^3, so the mass $m_w$ of water is"
   ]
  },
  {
   "cell_type": "code",
   "execution_count": 48,
   "id": "e9c3fc68",
   "metadata": {},
   "outputs": [
    {
     "name": "stdout",
     "output_type": "stream",
     "text": [
      "Water mass m_w: 1.3000000000000003 kg\n"
     ]
    }
   ],
   "source": [
    "rho_water = 1000  # kg/m^3\n",
    "L_to_m3 = 0.001 \n",
    "m_w = rho_water * (V * L_to_m3)  # kg\n",
    "print(f'Water mass m_w: {m_w} kg')"
   ]
  },
  {
   "cell_type": "markdown",
   "id": "da590330",
   "metadata": {},
   "source": [
    "We remind that 1 mole contains $N_A$ elements, where:"
   ]
  },
  {
   "cell_type": "code",
   "execution_count": 49,
   "id": "4d68e7b7",
   "metadata": {},
   "outputs": [],
   "source": [
    "N_A = 6.02214076e23  # Avogadro Number, /mol"
   ]
  },
  {
   "cell_type": "markdown",
   "id": "529f27bd",
   "metadata": {},
   "source": [
    "We remind that The molar mass (https://en.wikipedia.org/wiki/Molar_mass) $M$ in g/mol of an atom is given by the relative atomic mass (https://en.wikipedia.org/wiki/Atomic_mass) of the element multiplied by the molar mass constant $M_u$ (https://en.wikipedia.org/wiki/Molar_mass_constant).\n",
    "\n",
    "The chemical formula of water is H20. The molar mass of H is 1 g/mol and O is 16 g/mol. Hence, a water molecule is 2x1+16=18 g/mol, so 1 mol of H2O weights 18 g.\n",
    "\n",
    "So, in a mass $m_w$ of water, one could count $N$ molecules of H20:"
   ]
  },
  {
   "cell_type": "code",
   "execution_count": 50,
   "id": "76f31d88",
   "metadata": {},
   "outputs": [
    {
     "name": "stdout",
     "output_type": "stream",
     "text": [
      "Number of H2O molecules in a volume V of water: 4.349323882222224e+25\n"
     ]
    }
   ],
   "source": [
    "M_1mole_water = 18e-3  # kg\n",
    "N_molecules = m_w / M_1mole_water * N_A\n",
    "print(f'Number of H2O molecules in a volume V of water: {N_molecules}')"
   ]
  },
  {
   "cell_type": "markdown",
   "id": "66c9d852",
   "metadata": {},
   "source": [
    "Since there are 3 atoms (2H+1O) in a water modelcule, the total number of atoms in a mass $m_w$ of water is then:"
   ]
  },
  {
   "cell_type": "code",
   "execution_count": 51,
   "id": "f19d0f10",
   "metadata": {},
   "outputs": [
    {
     "name": "stdout",
     "output_type": "stream",
     "text": [
      "Total number of atoms in a volume V of water: 1.3047971646666672e+26\n"
     ]
    }
   ],
   "source": [
    "N_total = 3*N_molecules\n",
    "print(f'Total number of atoms in a volume V of water: {N_total}')"
   ]
  },
  {
   "cell_type": "markdown",
   "id": "8c62267f",
   "metadata": {},
   "source": [
    "Since we are only interested in Hydrogen atoms, that is the 2/3 of the total number of atomes, there are $N_H$ atoms of Hydrogen in $m_w$ kg of water:"
   ]
  },
  {
   "cell_type": "code",
   "execution_count": 52,
   "id": "571997de",
   "metadata": {},
   "outputs": [
    {
     "name": "stdout",
     "output_type": "stream",
     "text": [
      "Number of Hydrogen atoms in a volume V of water: 8.698647764444447e+25\n"
     ]
    }
   ],
   "source": [
    "N_H = N_total * 2/3\n",
    "print(f'Number of Hydrogen atoms in a volume V of water: {N_H}')"
   ]
  },
  {
   "cell_type": "markdown",
   "id": "ef9b48de",
   "metadata": {},
   "source": [
    "## Number of Deuterium atoms\n",
    "Deuterium is a Hydrogen isotope and exists naturally on Earth. From Wikipedia (https://en.wikipedia.org/wiki/Deuterium#Abundance), the natural abondance of Deuterium is 0.015%"
   ]
  },
  {
   "cell_type": "code",
   "execution_count": 53,
   "id": "8aeb1d26",
   "metadata": {},
   "outputs": [],
   "source": [
    "# D natural abondance (isotopic ratio H/D)\n",
    "ratio_D_over_H = 0.0153 / 100"
   ]
  },
  {
   "cell_type": "markdown",
   "id": "3ecd6dc8",
   "metadata": {},
   "source": [
    "Hence the number of Deuterium atoms in the mass $m_w$ of water is:"
   ]
  },
  {
   "cell_type": "code",
   "execution_count": 54,
   "id": "5ba9c104",
   "metadata": {},
   "outputs": [
    {
     "name": "stdout",
     "output_type": "stream",
     "text": [
      "Number of Deuterium atoms in a volume V of water: 1.3308931079600005e+22\n"
     ]
    }
   ],
   "source": [
    "N_D = N_H * ratio_D_over_H\n",
    "print(f'Number of Deuterium atoms in a volume V of water: {N_D}')"
   ]
  },
  {
   "cell_type": "markdown",
   "id": "43a98266",
   "metadata": {},
   "source": [
    "## D-T fusion reaction"
   ]
  },
  {
   "cell_type": "markdown",
   "id": "f9ee8381",
   "metadata": {},
   "source": [
    "Suppose one brings as much as Tritium atoms $N_T$ as Deuterium atoms $N_D$, ie $N_D = N_T$. (discussion of Tritium availability is put aside for now)\n",
    "\n",
    "The D-T fusion generates:\n",
    "$$\n",
    "D + T \\rightarrow He4 (3.54 MeV) + n (14.05 MeV)\n",
    "$$\n",
    "that is, the total energy released by one D-T fusion reaction is"
   ]
  },
  {
   "cell_type": "code",
   "execution_count": 55,
   "id": "227a2287",
   "metadata": {},
   "outputs": [
    {
     "name": "stdout",
     "output_type": "stream",
     "text": [
      "One D-T fusion produces 17.59 MeV\n"
     ]
    }
   ],
   "source": [
    "E_DT_MeV = 3.54 + 14.05 # in MeV\n",
    "print(f'One D-T fusion produces {E_DT_MeV} MeV')"
   ]
  },
  {
   "cell_type": "markdown",
   "id": "3327936d",
   "metadata": {},
   "source": [
    "Converting this quantity in Joules:"
   ]
  },
  {
   "cell_type": "code",
   "execution_count": 56,
   "id": "d759917d",
   "metadata": {},
   "outputs": [
    {
     "name": "stdout",
     "output_type": "stream",
     "text": [
      "One D-T fusion produces 2.81823462e-12 Joules\n"
     ]
    }
   ],
   "source": [
    "MeV_to_Joule = 1e6 * 1.60218e-19 \n",
    "E_DT_J = E_DT_MeV * MeV_to_Joule\n",
    "print(f'One D-T fusion produces {E_DT_J} Joules')"
   ]
  },
  {
   "cell_type": "markdown",
   "id": "43fc72dc",
   "metadata": {},
   "source": [
    "Multypling the number of Deuterium and Tritium atoms, the ideal total energy that could be liberated from a volume $V$ of water is:"
   ]
  },
  {
   "cell_type": "code",
   "execution_count": 57,
   "id": "f6af47a3",
   "metadata": {},
   "outputs": [
    {
     "name": "stdout",
     "output_type": "stream",
     "text": [
      "Total energy eventually liberated from fusing the D atoms contained in a Volume V of water: 37507690323.72272 Joules\n"
     ]
    }
   ],
   "source": [
    "E_total_J = E_DT_J * N_D\n",
    "print(f'Total energy eventually liberated from fusing the D atoms contained in a Volume V of water: {E_total_J} Joules')"
   ]
  },
  {
   "cell_type": "markdown",
   "id": "941a20da",
   "metadata": {},
   "source": [
    "The unit of Joule is not very convenient, to we convert into MWh: "
   ]
  },
  {
   "cell_type": "code",
   "execution_count": 58,
   "id": "226d619d",
   "metadata": {},
   "outputs": [
    {
     "name": "stdout",
     "output_type": "stream",
     "text": [
      "Total energy eventually liberated from fusing all D atoms contained in a Volume V of water (adding the same amount of Tritium): 10.418811202743049 MWh\n"
     ]
    }
   ],
   "source": [
    "J_to_MWh = 2.77778e-10\n",
    "E_total_MWh = E_total_J * J_to_MWh\n",
    "print(f'Total energy eventually liberated from fusing all D atoms contained in a Volume V of water (adding the same amount of Tritium): {E_total_MWh} MWh')"
   ]
  },
  {
   "cell_type": "markdown",
   "id": "db819cbf",
   "metadata": {},
   "source": [
    "## Energy Consumption by an average human\n",
    "Consommation moyenne énergétique par habitant et par an (https://fr.wikipedia.org/wiki/Liste_de_pays_par_consommation_d%27%C3%A9lectricit%C3%A9):"
   ]
  },
  {
   "cell_type": "code",
   "execution_count": 59,
   "id": "cef0b301",
   "metadata": {},
   "outputs": [],
   "source": [
    "E_human_avg_MHh = 6.448  # MWh (6448 kWh pour la France)"
   ]
  },
  {
   "cell_type": "markdown",
   "id": "4ce6993d",
   "metadata": {},
   "source": [
    "## Ocean Water volume\n",
    "Volume des océans (https://fr.wikipedia.org/wiki/Oc%C3%A9an): 1.37 milliard de kilomètres cubes, soit :"
   ]
  },
  {
   "cell_type": "code",
   "execution_count": 60,
   "id": "333438df",
   "metadata": {},
   "outputs": [
    {
     "name": "stdout",
     "output_type": "stream",
     "text": [
      "Ocean volume : 1.370000e+18 m^3\n"
     ]
    }
   ],
   "source": [
    "V_ocean = 1.37e9 * (1e3)**3  # m^3\n",
    "print(f'Ocean volume : {V_ocean:e} m^3')"
   ]
  },
  {
   "cell_type": "markdown",
   "id": "07408bfe",
   "metadata": {},
   "source": [
    "## World average energy consumption\n"
   ]
  },
  {
   "cell_type": "markdown",
   "id": "c1dd5de6",
   "metadata": {},
   "source": [
    "Consommation énergie mondiale consommée sur une année (https://fr.wikipedia.org/wiki/Liste_de_pays_par_consommation_d%27%C3%A9lectricit%C3%A9): 21 776 088,770 3 GWh."
   ]
  },
  {
   "cell_type": "code",
   "execution_count": 61,
   "id": "c85a6025",
   "metadata": {},
   "outputs": [],
   "source": [
    "E_world_per_year_MWh = 21776088.770 * 1e3 # MWh"
   ]
  },
  {
   "cell_type": "markdown",
   "id": "28476b8f",
   "metadata": {},
   "source": [
    "To produce this amount of energy, one would thus need a volume of water of:"
   ]
  },
  {
   "cell_type": "code",
   "execution_count": 62,
   "id": "8d20d503",
   "metadata": {},
   "outputs": [
    {
     "name": "stdout",
     "output_type": "stream",
     "text": [
      "A water volume of 2.717096e+06 m^3 is required to produce the world energy required for a year\n"
     ]
    }
   ],
   "source": [
    "V_water_world_energie_per_year = E_world_per_year_MWh / (E_total_MWh/(V*L_to_m3)) # m^3\n",
    "print(f'A water volume of {V_water_world_energie_per_year:e} m^3 is required to produce the world energy required for a year')"
   ]
  },
  {
   "cell_type": "markdown",
   "id": "8d4be9b9",
   "metadata": {},
   "source": [
    "which may seems a lot, but it's a cube of ~140m side of water, and as compared to the ocean water volume, it corresponds to a percentage of:"
   ]
  },
  {
   "cell_type": "code",
   "execution_count": 63,
   "id": "8f7e437e",
   "metadata": {},
   "outputs": [
    {
     "data": {
      "text/plain": [
       "1.983282113135893e-10"
      ]
     },
     "execution_count": 63,
     "metadata": {},
     "output_type": "execute_result"
    }
   ],
   "source": [
    "V_water_world_energie_per_year / V_ocean * 100"
   ]
  },
  {
   "cell_type": "markdown",
   "id": "bdce7e7a",
   "metadata": {},
   "source": [
    "## Theoretical energy stored in the Ocean volume"
   ]
  },
  {
   "cell_type": "code",
   "execution_count": 64,
   "id": "0094674c",
   "metadata": {},
   "outputs": [],
   "source": [
    "V_ocean_L = V_ocean / L_to_m3  # L"
   ]
  },
  {
   "cell_type": "code",
   "execution_count": 65,
   "id": "1b406482",
   "metadata": {},
   "outputs": [],
   "source": [
    "nb_years = E_total_MWh * V_ocean_L / E_world_per_year_MWh"
   ]
  },
  {
   "cell_type": "code",
   "execution_count": 66,
   "id": "b9517c7a",
   "metadata": {},
   "outputs": [
    {
     "name": "stdout",
     "output_type": "stream",
     "text": [
      "Estimated ideal number of year of energy for the world: 6.554791e+11 years\n"
     ]
    }
   ],
   "source": [
    "print(f'Estimated ideal number of year of energy for the world: {nb_years:e} years')"
   ]
  },
  {
   "cell_type": "markdown",
   "id": "14e9882f",
   "metadata": {},
   "source": [
    "## Mass of Deuterium required in a fusion plant\n",
    "required density:"
   ]
  },
  {
   "cell_type": "code",
   "execution_count": 67,
   "id": "dad2ad79",
   "metadata": {},
   "outputs": [],
   "source": [
    "n_D = 1e20  # /m^3"
   ]
  },
  {
   "cell_type": "markdown",
   "id": "dad67048",
   "metadata": {},
   "source": [
    "## Energy in 1 g of Deuterium-Tritium mixture\n"
   ]
  },
  {
   "cell_type": "markdown",
   "id": "6d899603",
   "metadata": {},
   "source": [
    "The atomic mass of deuterium (2H) is 2.014102 u (https://fr.wikipedia.org/wiki/Deut%C3%A9rium), while that of tritium (3H) is 3.016049 u (https://fr.wikipedia.org/wiki/Tritium), for a total of 5.032151 u per reaction.\n",
    "\n",
    "So, 1 mole of reactants has a mass of 5.03 g, and in 1.00 g there are (1 g)/(5.03 g/mol)=0.1988 mol of reactants. The number of reactions that take place is therefore:\n",
    "\n",
    "$$N(DT) = n(DT) \\times N_A = (0.1988 mol)(6.02 × 10^{23} mol^{−1}) = 1.20 × 10^{23}$$\n",
    "\n",
    "elements.\n",
    "\n",
    "The total energy output is the number of reactions times the energy per reaction:\n",
    "\n",
    "$$E = (1.20×10^{23} reactions)(17.59 MeV/reaction)(1.602×10^{−13} J/MeV)=3.37×10^{11} J $$"
   ]
  },
  {
   "cell_type": "markdown",
   "id": "9d018543",
   "metadata": {},
   "source": [
    "Same things put differently:"
   ]
  },
  {
   "cell_type": "code",
   "execution_count": 68,
   "id": "0cd00bf1",
   "metadata": {},
   "outputs": [
    {
     "data": {
      "text/plain": [
       "1.204428152e+23"
      ]
     },
     "execution_count": 68,
     "metadata": {},
     "output_type": "execute_result"
    }
   ],
   "source": [
    "M_D = 2 # g/mol\n",
    "M_T = 3 # g/mol\n",
    "N_D = 1 / (M_D + M_T) * N_A\n",
    "N_D"
   ]
  },
  {
   "cell_type": "code",
   "execution_count": 69,
   "id": "69e03065",
   "metadata": {},
   "outputs": [
    {
     "name": "stdout",
     "output_type": "stream",
     "text": [
      "Energy released by 1g of D: 3.394361e+11 J\n"
     ]
    }
   ],
   "source": [
    "E_1g_J = N_D * E_DT_J # J/g\n",
    "print(f'Energy released by 1g of D: {E_1g_J:e} J')"
   ]
  },
  {
   "cell_type": "code",
   "execution_count": 70,
   "id": "2961fa26",
   "metadata": {},
   "outputs": [
    {
     "name": "stdout",
     "output_type": "stream",
     "text": [
      "Energy released by 1g of D: 9.428788e+04 kWh\n"
     ]
    }
   ],
   "source": [
    "J_to_kWh = 2.77778e-7\n",
    "E_1g_kWh = N_D * E_DT_J * J_to_kWh #kWh\n",
    "print(f'Energy released by 1g of D: {E_1g_kWh:e} kWh')"
   ]
  },
  {
   "cell_type": "markdown",
   "id": "44318dd8",
   "metadata": {},
   "source": [
    "## Comparison with Oil"
   ]
  },
  {
   "cell_type": "markdown",
   "id": "26492748",
   "metadata": {},
   "source": [
    "Contenu énergétique du pétrole (https://fr.wikipedia.org/wiki/P%C3%A9trole):  42 GJ pour 1000 kg, soit 42 MJ/kg ou 42kJ/g."
   ]
  },
  {
   "cell_type": "code",
   "execution_count": 71,
   "id": "f316f3ea",
   "metadata": {},
   "outputs": [],
   "source": [
    "E_oil_1g_J = 42e3 # J/g"
   ]
  },
  {
   "cell_type": "markdown",
   "id": "ca67ed3a",
   "metadata": {},
   "source": [
    "ratio of energy supplied by 1g of D with 1 g of oil:"
   ]
  },
  {
   "cell_type": "code",
   "execution_count": 72,
   "id": "55312f59",
   "metadata": {},
   "outputs": [
    {
     "name": "stdout",
     "output_type": "stream",
     "text": [
      "1g of DT fuel contains 8.081812e+06 time more energy than 1 g of oil\n"
     ]
    }
   ],
   "source": [
    "ratio_DT_over_oil = E_1g_J/E_oil_1g_J\n",
    "print(f'1g of DT fuel contains {ratio_DT_over_oil:e} time more energy than 1 g of oil')"
   ]
  },
  {
   "cell_type": "markdown",
   "id": "0518191c",
   "metadata": {},
   "source": [
    "Hence, 1 g D-T fusion mix <-> 8 t of oil"
   ]
  },
  {
   "cell_type": "markdown",
   "id": "7b59d677",
   "metadata": {},
   "source": [
    "## Comparison with Coal\n",
    "Contenu énergétique : entre 33 et 14 MJ/kg selon la qualité (https://fr.wikipedia.org/wiki/Charbon)"
   ]
  },
  {
   "cell_type": "code",
   "execution_count": 74,
   "id": "e06993b7",
   "metadata": {},
   "outputs": [
    {
     "name": "stdout",
     "output_type": "stream",
     "text": [
      "1g of DT fuel contains 1.028594e+07 time more energy than 1 g of coal\n"
     ]
    }
   ],
   "source": [
    "E_coal_1g_J = 33e3 # J/g\n",
    "ratio_DT_over_coal = E_1g_J/E_coal_1g_J\n",
    "print(f'1g of DT fuel contains {ratio_DT_over_coal:e} time more energy than 1 g of coal')"
   ]
  },
  {
   "cell_type": "markdown",
   "id": "71a889b5",
   "metadata": {},
   "source": [
    "Hence, 1 g D-T fusion mix <-> 10 t of coal"
   ]
  },
  {
   "cell_type": "code",
   "execution_count": null,
   "id": "e03490a5",
   "metadata": {},
   "outputs": [],
   "source": []
  }
 ],
 "metadata": {
  "kernelspec": {
   "display_name": "Python 3 (ipykernel)",
   "language": "python",
   "name": "python3"
  },
  "language_info": {
   "codemirror_mode": {
    "name": "ipython",
    "version": 3
   },
   "file_extension": ".py",
   "mimetype": "text/x-python",
   "name": "python",
   "nbconvert_exporter": "python",
   "pygments_lexer": "ipython3",
   "version": "3.9.7"
  }
 },
 "nbformat": 4,
 "nbformat_minor": 5
}
