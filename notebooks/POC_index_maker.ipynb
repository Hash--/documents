{
 "cells": [
  {
   "cell_type": "code",
   "execution_count": 20,
   "metadata": {
    "collapsed": true
   },
   "outputs": [],
   "source": [
    "# Python3\n",
    "import urllib.request"
   ]
  },
  {
   "cell_type": "code",
   "execution_count": 15,
   "metadata": {
    "collapsed": true
   },
   "outputs": [],
   "source": [
    "pages=['http://www.futura-sciences.com/magazines/matiere/infos/actu/d/physique-ordinateurs-million-fois-moins-gourmands-energie-62032/',\n",
    "      'http://www.futura-sciences.com/magazines/espace/infos/actu/d/astronomie-jamais-vu-246-ans-deux-cometes-visibles-vont-nous-froler-ce-soir-62083/',\n",
    "      'http://www.futura-sciences.com/magazines/high-tech/infos/actu/d/voiture-fbi-alerte-risques-piratage-voitures-connectees-62110/']\n",
    "\n",
    "keywords = ['ordinateur', 'wifi', 'sciences', 'physique']"
   ]
  },
  {
   "cell_type": "markdown",
   "metadata": {},
   "source": [
    "For each pages, parse the content and count the number of occurences of each keyword."
   ]
  },
  {
   "cell_type": "code",
   "execution_count": 38,
   "metadata": {
    "collapsed": false
   },
   "outputs": [
    {
     "name": "stdout",
     "output_type": "stream",
     "text": [
      "For page: http://www.futura-sciences.com/magazines/matiere/infos/actu/d/physique-ordinateurs-million-fois-moins-gourmands-energie-62032/\n",
      "keyword ordinateur found 83 times\n",
      "keyword wifi found 0 times\n",
      "keyword sciences found 183 times\n",
      "keyword physique found 50 times\n",
      "For page: http://www.futura-sciences.com/magazines/espace/infos/actu/d/astronomie-jamais-vu-246-ans-deux-cometes-visibles-vont-nous-froler-ce-soir-62083/\n",
      "keyword ordinateur found 4 times\n",
      "keyword wifi found 0 times\n",
      "keyword sciences found 215 times\n",
      "keyword physique found 2 times\n",
      "For page: http://www.futura-sciences.com/magazines/high-tech/infos/actu/d/voiture-fbi-alerte-risques-piratage-voitures-connectees-62110/\n",
      "keyword ordinateur found 18 times\n",
      "keyword wifi found 1 times\n",
      "keyword sciences found 184 times\n",
      "keyword physique found 7 times\n"
     ]
    }
   ],
   "source": [
    "index = {}\n",
    "for page in pages:\n",
    "    with urllib.request.urlopen(page) as response:\n",
    "        html = response.read().decode('utf-8')\n",
    "        \n",
    "        print('For page: '+page)\n",
    "        \n",
    "        for keyword in keywords:\n",
    "            nb_occurences = html.count(keyword)\n",
    "            \n",
    "            print('keyword '+keyword+' found '+str(nb_occurences)+' times')\n",
    "            \n",
    "            if nb_occurences > 0:\n",
    "                if keyword in index: # add the page to the index for this keyword\n",
    "                    index[keyword].append(page)\n",
    "                else: # first time keyword seen \n",
    "                    index[keyword] = [page]"
   ]
  },
  {
   "cell_type": "markdown",
   "metadata": {},
   "source": [
    "Save the index in a text file, with keyword sorted A-Z. "
   ]
  },
  {
   "cell_type": "code",
   "execution_count": 50,
   "metadata": {
    "collapsed": false
   },
   "outputs": [],
   "source": [
    "index_file = 'index.txt'\n",
    "\n",
    "with open(index_file, 'w') as f:\n",
    "    for keyword in sorted(index):\n",
    "        f.write(keyword+': '+', '.join(index[keyword])+'\\n')"
   ]
  },
  {
   "cell_type": "markdown",
   "metadata": {},
   "source": [
    "Have a look to the generated text file"
   ]
  },
  {
   "cell_type": "code",
   "execution_count": 58,
   "metadata": {
    "collapsed": false
   },
   "outputs": [
    {
     "name": "stdout",
     "output_type": "stream",
     "text": [
      "ordinateur: http://www.futura-sciences.com/magazines/matiere/infos/actu/d/physique-ordinateurs-million-fois-moins-gourmands-energie-62032/, http://www.futura-sciences.com/magazines/espace/infos/actu/d/astronomie-jamais-vu-246-ans-deux-cometes-visibles-vont-nous-froler-ce-soir-62083/, http://www.futura-sciences.com/magazines/high-tech/infos/actu/d/voiture-fbi-alerte-risques-piratage-voitures-connectees-62110/\n",
      "physique: http://www.futura-sciences.com/magazines/matiere/infos/actu/d/physique-ordinateurs-million-fois-moins-gourmands-energie-62032/, http://www.futura-sciences.com/magazines/espace/infos/actu/d/astronomie-jamais-vu-246-ans-deux-cometes-visibles-vont-nous-froler-ce-soir-62083/, http://www.futura-sciences.com/magazines/high-tech/infos/actu/d/voiture-fbi-alerte-risques-piratage-voitures-connectees-62110/\n",
      "sciences: http://www.futura-sciences.com/magazines/matiere/infos/actu/d/physique-ordinateurs-million-fois-moins-gourmands-energie-62032/, http://www.futura-sciences.com/magazines/espace/infos/actu/d/astronomie-jamais-vu-246-ans-deux-cometes-visibles-vont-nous-froler-ce-soir-62083/, http://www.futura-sciences.com/magazines/high-tech/infos/actu/d/voiture-fbi-alerte-risques-piratage-voitures-connectees-62110/\n",
      "wifi: http://www.futura-sciences.com/magazines/high-tech/infos/actu/d/voiture-fbi-alerte-risques-piratage-voitures-connectees-62110/\n",
      "\n"
     ]
    }
   ],
   "source": [
    "with open(index_file) as f:\n",
    "    print(f.read())"
   ]
  }
 ],
 "metadata": {
  "kernelspec": {
   "display_name": "Python 3",
   "language": "python",
   "name": "python3"
  },
  "language_info": {
   "codemirror_mode": {
    "name": "ipython",
    "version": 3
   },
   "file_extension": ".py",
   "mimetype": "text/x-python",
   "name": "python",
   "nbconvert_exporter": "python",
   "pygments_lexer": "ipython3",
   "version": "3.5.1"
  }
 },
 "nbformat": 4,
 "nbformat_minor": 0
}
