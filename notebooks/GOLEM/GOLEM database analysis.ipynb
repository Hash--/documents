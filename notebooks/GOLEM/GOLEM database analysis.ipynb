{
 "cells": [
  {
   "cell_type": "markdown",
   "metadata": {},
   "source": [
    "In this notebook, we explore the GOLEM tokamak database using the _pygolem_ Python module"
   ]
  },
  {
   "cell_type": "code",
   "execution_count": 1,
   "metadata": {
    "collapsed": true
   },
   "outputs": [],
   "source": [
    "# Python 3\n",
    "import configparser as cp\n",
    "import numpy as np\n",
    "import matplotlib.pyplot as plt\n",
    "from urllib.request import urlopen, HTTPError\n",
    "%matplotlib inline"
   ]
  },
  {
   "cell_type": "code",
   "execution_count": 2,
   "metadata": {
    "collapsed": false
   },
   "outputs": [],
   "source": [
    "def get_shot_config(shot):\n",
    "    \"\"\"\n",
    "    Get the GOLEM shot configuration.\n",
    "    \n",
    "    Parameters\n",
    "    ----------\n",
    "    shot :  int\n",
    "            GOLEM shot number\n",
    "    \n",
    "    Returns\n",
    "    -------\n",
    "    dict\n",
    "            GOLEM shot configuration dictionnary\n",
    "    \n",
    "    \"\"\"\n",
    "    url = 'http://golem.fjfi.cvut.cz/shots/{}/data_configuration.cfg'.format(shot)\n",
    "    try:\n",
    "        with urlopen(url) as response:\n",
    "            config_str = response.read().decode('utf-8')\n",
    "    \n",
    "        config = cp.RawConfigParser()\n",
    "        data_types = dict()\n",
    "        config.read_string(config_str)\n",
    "        for data_type in config.sections():\n",
    "            data_types[data_type] = dict(config.items(data_type))\n",
    "        return data_types\n",
    "    except HTTPError:\n",
    "        print('Problem with the network? Can''t open the config file')\n",
    "        return None"
   ]
  },
  {
   "cell_type": "code",
   "execution_count": 10,
   "metadata": {
    "collapsed": false
   },
   "outputs": [],
   "source": [
    "def get_shot_data_dict(shot, signame):\n",
    "    \"\"\"\n",
    "    Returns the data dictionnary of a signal for given shot.\n",
    "    \"\"\"\n",
    "    baseURL = \"http://golem.fjfi.cvut.cz/utils/data/\"\n",
    "    url = baseURL + str(shot) +'/' + signame + '.npz'\n",
    "    print('Openning {} ...'.format(url))\n",
    "    # The source file gets downloaded and saved into a temporary directory \n",
    "    ds = np.DataSource()\n",
    "    return np.load(ds.open(url, mode='br'))# as npz: # Python 3 needs to open the file in binary mode  "
   ]
  },
  {
   "cell_type": "code",
   "execution_count": 7,
   "metadata": {
    "collapsed": true
   },
   "outputs": [],
   "source": [
    "def dict_to_y(data_dict):\n",
    "    y = data_dict['data']\n",
    "    t = np.linspace(data_dict['t_start'], data_dict['t_end'], len(y))\n",
    "    return t, y"
   ]
  },
  {
   "cell_type": "code",
   "execution_count": 8,
   "metadata": {
    "collapsed": false
   },
   "outputs": [],
   "source": [
    "cfg = get_shot_config(22668)"
   ]
  },
  {
   "cell_type": "code",
   "execution_count": 15,
   "metadata": {
    "collapsed": false
   },
   "outputs": [
    {
     "name": "stdout",
     "output_type": "stream",
     "text": [
      "Openning http://golem.fjfi.cvut.cz/utils/data/22668/irog.npz ...\n"
     ]
    },
    {
     "data": {
      "text/plain": [
       "[<matplotlib.lines.Line2D at 0x7ec0ba8>]"
      ]
     },
     "execution_count": 15,
     "metadata": {},
     "output_type": "execute_result"
    },
    {
     "data": {
      "image/png": "[encoded data removed]",
      "text/plain": [
       "<matplotlib.figure.Figure at 0x7e5e198>"
      ]
     },
     "metadata": {},
     "output_type": "display_data"
    }
   ],
   "source": [
    "irog = get_shot_data_dict(22668, 'irog')\n",
    "t, _irog = dict_to_y(irog)\n",
    "plt.plot(t, _irog)"
   ]
  },
  {
   "cell_type": "code",
   "execution_count": 125,
   "metadata": {
    "collapsed": false
   },
   "outputs": [
    {
     "name": "stdout",
     "output_type": "stream",
     "text": [
      "{'identifier': 'wwwcomment', 'ylabel': 'str', 'datadir': './', 'type': 'string', 'name': 'Discharge pre-comment'}\n"
     ]
    }
   ],
   "source": [
    "print(cfg['wwwcomment'])"
   ]
  },
  {
   "cell_type": "code",
   "execution_count": 129,
   "metadata": {
    "collapsed": false
   },
   "outputs": [
    {
     "name": "stdout",
     "output_type": "stream",
     "text": [
      "Openning http://golem.fjfi.cvut.cz/utils/data/22667/wwwcomment.npz ...\n"
     ]
    }
   ],
   "source": [
    "data=get_data(22667, 'wwwcomment')"
   ]
  },
  {
   "cell_type": "code",
   "execution_count": 133,
   "metadata": {
    "collapsed": false
   },
   "outputs": [
    {
     "data": {
      "text/plain": [
       "array(b'MASTER - Test Julien', \n",
       "      dtype='|S20')"
      ]
     },
     "execution_count": 133,
     "metadata": {},
     "output_type": "execute_result"
    }
   ],
   "source": [
    "data"
   ]
  },
  {
   "cell_type": "markdown",
   "metadata": {},
   "source": [
    "# Basic Parameters"
   ]
  },
  {
   "cell_type": "code",
   "execution_count": 150,
   "metadata": {
    "collapsed": true
   },
   "outputs": [],
   "source": [
    "shot = 22667"
   ]
  },
  {
   "cell_type": "code",
   "execution_count": 160,
   "metadata": {
    "collapsed": false
   },
   "outputs": [
    {
     "name": "stdout",
     "output_type": "stream",
     "text": [
      "Openning http://golem.fjfi.cvut.cz/utils/data/22667/pressure.npz ...\n"
     ]
    }
   ],
   "source": [
    "# Gas Pressure\n",
    "pressure = get_data(shot, 'pressure')['data'] # mPa"
   ]
  },
  {
   "cell_type": "code",
   "execution_count": 159,
   "metadata": {
    "collapsed": false
   },
   "outputs": [
    {
     "name": "stdout",
     "output_type": "stream",
     "text": [
      "Openning http://golem.fjfi.cvut.cz/utils/data/22667/working_gas.npz ...\n"
     ]
    }
   ],
   "source": [
    "# Gas Specie\n",
    "gas = get_data(shot, 'working_gas')['data']"
   ]
  },
  {
   "cell_type": "code",
   "execution_count": 158,
   "metadata": {
    "collapsed": false
   },
   "outputs": [
    {
     "name": "stdout",
     "output_type": "stream",
     "text": [
      "Openning http://golem.fjfi.cvut.cz/utils/data/22667/plasma.npz ...\n",
      "Openning http://golem.fjfi.cvut.cz/utils/data/22667/plasma_life.npz ...\n"
     ]
    }
   ],
   "source": [
    "# Plasma lifetime\n",
    "is_plasma = get_data(shot, 'plasma')['data'] # 1 or 0\n",
    "t_plasma = get_data(shot, 'plasma_life')['data']"
   ]
  },
  {
   "cell_type": "code",
   "execution_count": 166,
   "metadata": {
    "collapsed": false
   },
   "outputs": [
    {
     "name": "stdout",
     "output_type": "stream",
     "text": [
      "Openning http://golem.fjfi.cvut.cz/utils/data/22667/ub.npz ...\n",
      "Openning http://golem.fjfi.cvut.cz/utils/data/22667/ubd.npz ...\n",
      "Openning http://golem.fjfi.cvut.cz/utils/data/22667/ucd.npz ...\n",
      "Openning http://golem.fjfi.cvut.cz/utils/data/22667/ust.npz ...\n",
      "Openning http://golem.fjfi.cvut.cz/utils/data/22667/tb.npz ...\n",
      "Openning http://golem.fjfi.cvut.cz/utils/data/22667/tbd.npz ...\n",
      "Openning http://golem.fjfi.cvut.cz/utils/data/22667/tcd.npz ...\n",
      "Openning http://golem.fjfi.cvut.cz/utils/data/22667/tst.npz ...\n"
     ]
    }
   ],
   "source": [
    "ub, ubd, ucd, ust = get_data(shot, 'ub')['data'], get_data(shot, 'ubd')['data'], get_data(shot, 'ucd')['data'], get_data(shot, 'ust')['data']\n",
    "tb, tbd, tcd, tst = get_data(shot, 'tb')['data'], get_data(shot, 'tbd')['data'], get_data(shot, 'tcd')['data'], get_data(shot, 'tst')['data'], \n"
   ]
  },
  {
   "cell_type": "code",
   "execution_count": 167,
   "metadata": {
    "collapsed": false
   },
   "outputs": [
    {
     "name": "stdout",
     "output_type": "stream",
     "text": [
      "20.6484 b'H' 0.00754\n",
      "600.0 0.0 500.0 0.0\n",
      "0.005 0.005 0.006 0.005\n"
     ]
    }
   ],
   "source": [
    "print(pressure, gas, t_plasma)\n",
    "print(ub, ubd, ucd, ust)\n",
    "print(tb, tbd, tcd, tst)"
   ]
  },
  {
   "cell_type": "code",
   "execution_count": null,
   "metadata": {
    "collapsed": true
   },
   "outputs": [],
   "source": []
  }
 ],
 "metadata": {
  "anaconda-cloud": {},
  "kernelspec": {
   "display_name": "Python [default]",
   "language": "python",
   "name": "python3"
  },
  "language_info": {
   "codemirror_mode": {
    "name": "ipython",
    "version": 3
   },
   "file_extension": ".py",
   "mimetype": "text/x-python",
   "name": "python",
   "nbconvert_exporter": "python",
   "pygments_lexer": "ipython3",
   "version": "3.5.2"
  }
 },
 "nbformat": 4,
 "nbformat_minor": 1
}
